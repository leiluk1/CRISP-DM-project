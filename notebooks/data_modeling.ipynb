{
 "cells": [
  {
   "cell_type": "markdown",
   "id": "708a8a24",
   "metadata": {},
   "source": [
    "# Modeling\n",
    "-------------\n"
   ]
  },
  {
   "cell_type": "code",
   "execution_count": 24,
   "id": "8e9e9fc5-4676-45ab-9b75-d6bd734716dd",
   "metadata": {},
   "outputs": [],
   "source": [
    "import numpy as np\n",
    "import pandas as pd\n",
    "import matplotlib.pyplot as plt\n",
    "from sklearn.metrics import brier_score_loss, roc_auc_score\n",
    "from sklearn.model_selection import train_test_split\n",
    "from catboost import CatBoostClassifier, Pool\n",
    "import warnings\n",
    "\n",
    "warnings.filterwarnings('ignore')"
   ]
  },
  {
   "cell_type": "markdown",
   "id": "4f2a1256",
   "metadata": {},
   "source": [
    "## Access the data"
   ]
  },
  {
   "cell_type": "code",
   "execution_count": 2,
   "id": "673f0127-193a-483b-9532-6d700dad373b",
   "metadata": {},
   "outputs": [],
   "source": [
    "data = pd.read_parquet('./data/preprocessed_data.parquet')"
   ]
  },
  {
   "cell_type": "code",
   "execution_count": 3,
   "id": "11da13cb-282a-467c-88f1-cdb3b92569a8",
   "metadata": {},
   "outputs": [
    {
     "data": {
      "text/html": [
       "<div>\n",
       "<style scoped>\n",
       "    .dataframe tbody tr th:only-of-type {\n",
       "        vertical-align: middle;\n",
       "    }\n",
       "\n",
       "    .dataframe tbody tr th {\n",
       "        vertical-align: top;\n",
       "    }\n",
       "\n",
       "    .dataframe thead th {\n",
       "        text-align: right;\n",
       "    }\n",
       "</style>\n",
       "<table border=\"1\" class=\"dataframe\">\n",
       "  <thead>\n",
       "    <tr style=\"text-align: right;\">\n",
       "      <th></th>\n",
       "      <th>review_id</th>\n",
       "      <th>product_category</th>\n",
       "      <th>total_votes</th>\n",
       "      <th>review</th>\n",
       "      <th>usefulness</th>\n",
       "    </tr>\n",
       "  </thead>\n",
       "  <tbody>\n",
       "    <tr>\n",
       "      <th>41</th>\n",
       "      <td>R1FBO737KD9F2N</td>\n",
       "      <td>Electronics</td>\n",
       "      <td>23</td>\n",
       "      <td>Great noise cancelling headphones for the pric...</td>\n",
       "      <td>0.826087</td>\n",
       "    </tr>\n",
       "    <tr>\n",
       "      <th>145</th>\n",
       "      <td>R227GSNWI6BSZV</td>\n",
       "      <td>Electronics</td>\n",
       "      <td>20</td>\n",
       "      <td>Garbage, lasted 8 months... warranty is useles...</td>\n",
       "      <td>1.000000</td>\n",
       "    </tr>\n",
       "    <tr>\n",
       "      <th>265</th>\n",
       "      <td>R4PF7S0TOV9S7</td>\n",
       "      <td>Electronics</td>\n",
       "      <td>17</td>\n",
       "      <td>A long lasting bluetooth sound bazooka!\\nThis ...</td>\n",
       "      <td>0.882353</td>\n",
       "    </tr>\n",
       "    <tr>\n",
       "      <th>274</th>\n",
       "      <td>R22LKIOKMSOG8A</td>\n",
       "      <td>Electronics</td>\n",
       "      <td>13</td>\n",
       "      <td>nice!\\nThis is a nice little turntable. Don't ...</td>\n",
       "      <td>0.923077</td>\n",
       "    </tr>\n",
       "    <tr>\n",
       "      <th>304</th>\n",
       "      <td>R3SJTYZBYBG4EE</td>\n",
       "      <td>Electronics</td>\n",
       "      <td>99</td>\n",
       "      <td>Very good charger for the price! But has a dow...</td>\n",
       "      <td>1.000000</td>\n",
       "    </tr>\n",
       "  </tbody>\n",
       "</table>\n",
       "</div>"
      ],
      "text/plain": [
       "          review_id product_category  total_votes  \\\n",
       "41   R1FBO737KD9F2N      Electronics           23   \n",
       "145  R227GSNWI6BSZV      Electronics           20   \n",
       "265   R4PF7S0TOV9S7      Electronics           17   \n",
       "274  R22LKIOKMSOG8A      Electronics           13   \n",
       "304  R3SJTYZBYBG4EE      Electronics           99   \n",
       "\n",
       "                                                review  usefulness  \n",
       "41   Great noise cancelling headphones for the pric...    0.826087  \n",
       "145  Garbage, lasted 8 months... warranty is useles...    1.000000  \n",
       "265  A long lasting bluetooth sound bazooka!\\nThis ...    0.882353  \n",
       "274  nice!\\nThis is a nice little turntable. Don't ...    0.923077  \n",
       "304  Very good charger for the price! But has a dow...    1.000000  "
      ]
     },
     "execution_count": 3,
     "metadata": {},
     "output_type": "execute_result"
    }
   ],
   "source": [
    "data.head()"
   ]
  },
  {
   "cell_type": "markdown",
   "id": "0851e04f",
   "metadata": {},
   "source": [
    "## Select modeling technique & Build model"
   ]
  },
  {
   "cell_type": "code",
   "execution_count": 4,
   "id": "81f1e9cb-e652-4eef-a9b8-35cc9e55c5ad",
   "metadata": {},
   "outputs": [],
   "source": [
    "# Split the data into train, val, and test sets\n",
    "X_train, X_test, y_train, y_test = train_test_split(data['review'], data['usefulness'], test_size=0.2, random_state=0)\n",
    "X_val, X_test, y_val, y_test = train_test_split(X_test, y_test, test_size=0.5, random_state=42)"
   ]
  },
  {
   "cell_type": "code",
   "execution_count": 5,
   "id": "d478b183-580b-4f95-b572-b8cfb60f6e9f",
   "metadata": {},
   "outputs": [],
   "source": [
    "train_pool = Pool(X_train.reset_index(drop=True), y_train.reset_index(drop=True), text_features=['review'], feature_names=['review'])\n",
    "eval_pool  = Pool(X_val.reset_index(drop=True), y_val.reset_index(drop=True), text_features=['review'], feature_names=['review'])\n",
    "test_pool  = Pool(X_test.reset_index(drop=True), y_test.reset_index(drop=True), text_features=['review'], feature_names=['review'])\n",
    "\n",
    "model = CatBoostClassifier(text_features=['review'], verbose=False, loss_function='CrossEntropy', random_seed=0)"
   ]
  },
  {
   "cell_type": "code",
   "execution_count": 6,
   "id": "ce8bdc2b-dd41-4970-8af2-be6d10244d9f",
   "metadata": {},
   "outputs": [
    {
     "data": {
      "application/vnd.jupyter.widget-view+json": {
       "model_id": "1a796699a7ae462cb7a80feca6538a40",
       "version_major": 2,
       "version_minor": 0
      },
      "text/plain": [
       "MetricVisualizer(layout=Layout(align_self='stretch', height='500px'))"
      ]
     },
     "metadata": {},
     "output_type": "display_data"
    },
    {
     "data": {
      "text/plain": [
       "<catboost.core.CatBoostClassifier at 0x22aae20cad0>"
      ]
     },
     "execution_count": 6,
     "metadata": {},
     "output_type": "execute_result"
    }
   ],
   "source": [
    "# Train the model\n",
    "model.fit(train_pool, eval_set=eval_pool, plot=True)"
   ]
  },
  {
   "cell_type": "code",
   "execution_count": 7,
   "id": "c1325500-587a-4665-a80d-3293d8009c75",
   "metadata": {},
   "outputs": [
    {
     "name": "stdout",
     "output_type": "stream",
     "text": [
      "Brier loss = 0.11326\n",
      "ROC_AUC = 0.62692\n"
     ]
    }
   ],
   "source": [
    "# Make predictions on the test set\n",
    "preds = model.predict(test_pool)\n",
    "\n",
    "print(f\"Brier loss = {brier_score_loss(preds, y_test.to_numpy()) :.5f}\")\n",
    "print(f\"ROC_AUC = {roc_auc_score(y_test.to_numpy() > 0.5, preds) :.5f}\")"
   ]
  },
  {
   "cell_type": "code",
   "execution_count": 10,
   "id": "995bc7d8-4047-4807-8704-38a8756efb29",
   "metadata": {},
   "outputs": [],
   "source": [
    "model.save_model('catboost_model')"
   ]
  },
  {
   "cell_type": "markdown",
   "id": "344476cd-e88a-4fdb-8fe5-00bf627f1c46",
   "metadata": {},
   "source": [
    "## Inference of summarization model"
   ]
  },
  {
   "cell_type": "code",
   "execution_count": 27,
   "id": "baf42835-d94b-4939-9904-1b2af5a14688",
   "metadata": {},
   "outputs": [
    {
     "data": {
      "text/plain": [
       "<catboost.core.CatBoostClassifier at 0x22b6a6eb2f0>"
      ]
     },
     "execution_count": 27,
     "metadata": {},
     "output_type": "execute_result"
    }
   ],
   "source": [
    "model = CatBoostClassifier()\n",
    "model.load_model('catboost_model')"
   ]
  },
  {
   "cell_type": "code",
   "execution_count": 8,
   "id": "592814a4-3ee9-425b-9bf8-04c1fd83414d",
   "metadata": {},
   "outputs": [
    {
     "data": {
      "application/vnd.jupyter.widget-view+json": {
       "model_id": "ad1fe60a77754b8686f5b3ebfc243705",
       "version_major": 2,
       "version_minor": 0
      },
      "text/plain": [
       "config.json:   0%|          | 0.00/1.49k [00:00<?, ?B/s]"
      ]
     },
     "metadata": {},
     "output_type": "display_data"
    },
    {
     "data": {
      "application/vnd.jupyter.widget-view+json": {
       "model_id": "bfaba11117bc4486bc647d20e4fc2b8b",
       "version_major": 2,
       "version_minor": 0
      },
      "text/plain": [
       "model.safetensors:   0%|          | 0.00/242M [00:00<?, ?B/s]"
      ]
     },
     "metadata": {},
     "output_type": "display_data"
    },
    {
     "data": {
      "application/vnd.jupyter.widget-view+json": {
       "model_id": "9a97a69593194b9aa76152c2faf4cc2c",
       "version_major": 2,
       "version_minor": 0
      },
      "text/plain": [
       "generation_config.json:   0%|          | 0.00/112 [00:00<?, ?B/s]"
      ]
     },
     "metadata": {},
     "output_type": "display_data"
    },
    {
     "data": {
      "application/vnd.jupyter.widget-view+json": {
       "model_id": "22358f78cbb04e7dbd50a7ab910343ad",
       "version_major": 2,
       "version_minor": 0
      },
      "text/plain": [
       "tokenizer_config.json:   0%|          | 0.00/2.32k [00:00<?, ?B/s]"
      ]
     },
     "metadata": {},
     "output_type": "display_data"
    },
    {
     "data": {
      "application/vnd.jupyter.widget-view+json": {
       "model_id": "79a0317e1d544e24a07c8c7546690a54",
       "version_major": 2,
       "version_minor": 0
      },
      "text/plain": [
       "spiece.model:   0%|          | 0.00/792k [00:00<?, ?B/s]"
      ]
     },
     "metadata": {},
     "output_type": "display_data"
    },
    {
     "data": {
      "application/vnd.jupyter.widget-view+json": {
       "model_id": "f2a470e284e4473dbbcb4b8cd107ade5",
       "version_major": 2,
       "version_minor": 0
      },
      "text/plain": [
       "tokenizer.json:   0%|          | 0.00/2.42M [00:00<?, ?B/s]"
      ]
     },
     "metadata": {},
     "output_type": "display_data"
    },
    {
     "data": {
      "application/vnd.jupyter.widget-view+json": {
       "model_id": "d5ca0b68d711402c96c8c46fce04d5b6",
       "version_major": 2,
       "version_minor": 0
      },
      "text/plain": [
       "special_tokens_map.json:   0%|          | 0.00/2.20k [00:00<?, ?B/s]"
      ]
     },
     "metadata": {},
     "output_type": "display_data"
    }
   ],
   "source": [
    "from transformers import pipeline\n",
    "\n",
    "summarizer = pipeline(\"summarization\", model=\"Falconsai/text_summarization\")"
   ]
  },
  {
   "cell_type": "code",
   "execution_count": 14,
   "id": "684be7fc-af33-41d7-8118-a71b0e3d0e16",
   "metadata": {},
   "outputs": [],
   "source": [
    "probs = model.predict_proba(test_pool)[:, 1]"
   ]
  },
  {
   "cell_type": "code",
   "execution_count": 15,
   "id": "f97b67db-1437-43a0-b733-660d2a34f126",
   "metadata": {},
   "outputs": [
    {
     "data": {
      "text/plain": [
       "array([0.92529049, 0.91536677, 0.9090101 , 0.75488401, 0.60369318,\n",
       "       0.83708404, 0.88674995, 0.82113807, 0.4334201 , 0.69430861])"
      ]
     },
     "execution_count": 15,
     "metadata": {},
     "output_type": "execute_result"
    }
   ],
   "source": [
    "probs[:10]"
   ]
  },
  {
   "cell_type": "code",
   "execution_count": 21,
   "id": "884f35b6-0a66-44f5-b826-fdaff83c1157",
   "metadata": {},
   "outputs": [
    {
     "data": {
      "text/plain": [
       "47355      For street photography or 100% landscapes it i...\n",
       "7514086    Great Phone for a Great Price\\nThis phone is b...\n",
       "1320171    Will the Product Meet the 3-Year Warranty\\nGot...\n",
       "6604354    Kindle DX\\nI purchased this for my husband who...\n",
       "2982011    Good quality\\nI use on a Plextor DVD/CD R/W an...\n",
       "708382     Nice Auto-Diagnosis Device for Auto Diagnosis\\...\n",
       "1326176    The look & feel are and remain good. It does a...\n",
       "1477329    First DSLR\\nI am using a D7000 + 18-200mm VRII...\n",
       "8717154    Piss Poor!\\nThis really sucks. Did not even co...\n",
       "419206     Not Anti Glare\\nThis went on smoothly enough i...\n",
       "Name: review, dtype: object"
      ]
     },
     "execution_count": 21,
     "metadata": {},
     "output_type": "execute_result"
    }
   ],
   "source": [
    "X_test[:10]"
   ]
  },
  {
   "cell_type": "code",
   "execution_count": 22,
   "id": "9bcb0adc-1f14-4a0b-9921-b8b503202f5c",
   "metadata": {},
   "outputs": [
    {
     "data": {
      "text/plain": [
       "'For street photography or 100% landscapes it is fine, for any moving subjects or wildlife it is not.\\nI have been using the X-T1 for about a year now.  My motivation for purchasing it was to have a lightweight and compact camera for landscapes and occasional wildlife.  I am a professional photographer -- photography is my full time job.  Normally I create images with Canon 5D3, Canon 7D2, and Canon 1DX.  Since these are big and heavy, and I do a lot of my photography in the wilderness I wanted to give the Fujifilm X-T1 a try.  I meet many people who seem to convert from full size DSLR to mirrorless as a lighter and smaller version &quot;of the same thing&quot;.  I caution that transition as I do not think it is realistic.If you only shoot landscapes, or are a street photographer, then I can see the X-T1 being fine, with some caveats.  In my experience the battery life is terrible on the X-T1.  When you get the red warning icon of low battery, the battery is dead within a couple of minutes (at most).  I carry 4 batteries around with me.  The charge on the battery and the battery indicator do not seem to track each other.  I seem to go from a full battery to the red warning icon and then a dead battery very suddenly.I like to shoot bracketed images for scenes with high dynamic range.  The X-T1 only allows me to set 3 brackets and I do not seem to have a lot of adjustment in the number of stops (EV) to set for each bracket (?).The autofocus mechanism is OK, not great though.  I find a noticeable lag in focus lock.  I also like to use back button focus.  After doing some research on how to set this up on the X-T1 it seems that I can only do focus lock with the AF-lock back button, and have to reacquire focus with a half shutter depress.  This is counter to the motivations to use back button focus in the first place.Lens I have been using with the X-T1 include:(1) XF 18-135 mm WR lens(2) Fujinon XF 10-24mm F4 R OIS Wide Angle Zoom Lens(3) Rokinon 12mm F2.0 NCS CS Ultra Wide Angle Lens forFuji X Mount Digital Cameras(4) Rokinon 8mm F2.8 UMC Fisheye II (Black) Lens for Fuji X Mount Digital CamerasRecently I decided to leave my long lenses and DSLR bodies at home and take only the Fujifilm X-T1 to an air show in Seattle.  I knew that I would sacrifice the long reach of a telephoto by only having the 18-135mm (and the 1.6 crop factor of the X-T1).  This experience showed me how slow the X-T1 was to focus and some practical limitations on using it to capture action shots.  Yes, I am comparing it to a totally different type of camera, but that is my main point... this is not a replacement or alternative for a higher end DSLR.What I do like about the X-T1 is the electronic viewfinder, and the ability to see the intensity histogram while you are looking through the viewfinder.  The electronic viewfinder works so well that you can use it to get a quick estimate on your exposure -- sort of a what you see is what you get WYSIWYG viewfinder.I have been able to capture some nice sunrise landscape images with the X-T1.Hopefully over time the autofocus acquisition will be faster and Fuji will add more features found on quality DSLR camera bodies.'"
      ]
     },
     "execution_count": 22,
     "metadata": {},
     "output_type": "execute_result"
    }
   ],
   "source": [
    "X_test.iloc[0]"
   ]
  },
  {
   "cell_type": "code",
   "execution_count": 26,
   "id": "4100b48c-aca3-4b3c-ae56-27f754d38d3c",
   "metadata": {},
   "outputs": [
    {
     "name": "stdout",
     "output_type": "stream",
     "text": [
      "[{'summary_text': 'I have been using the X-T1 for about a year now . My motivation for purchasing it was to have a lightweight and compact camera for landscapes and occasional wildlife . I am a professional photographer -- photography is my full time job .'}]\n"
     ]
    }
   ],
   "source": [
    "print(summarizer(X_test.iloc[0], max_length=256, min_length=30, do_sample=False))"
   ]
  },
  {
   "cell_type": "code",
   "execution_count": null,
   "id": "5511ea38-8cae-4a8c-bc01-0125e703f62d",
   "metadata": {},
   "outputs": [],
   "source": []
  }
 ],
 "metadata": {
  "kernelspec": {
   "display_name": "Python 3 (ipykernel)",
   "language": "python",
   "name": "python3"
  },
  "language_info": {
   "codemirror_mode": {
    "name": "ipython",
    "version": 3
   },
   "file_extension": ".py",
   "mimetype": "text/x-python",
   "name": "python",
   "nbconvert_exporter": "python",
   "pygments_lexer": "ipython3",
   "version": "3.12.1"
  }
 },
 "nbformat": 4,
 "nbformat_minor": 5
}
