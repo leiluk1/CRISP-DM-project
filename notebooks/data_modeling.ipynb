{
 "cells": [
  {
   "cell_type": "markdown",
   "id": "ced6880f-b0e6-421a-8d69-3508b0ccf61e",
   "metadata": {},
   "source": [
    "# Modeling\n",
    "-------------\n"
   ]
  },
  {
   "cell_type": "code",
   "execution_count": 22,
   "id": "8e9e9fc5-4676-45ab-9b75-d6bd734716dd",
   "metadata": {},
   "outputs": [],
   "source": [
    "import numpy as np\n",
    "import pandas as pd\n",
    "import matplotlib.pyplot as plt\n",
    "from sklearn.metrics import brier_score_loss, roc_auc_score\n",
    "from sklearn.model_selection import train_test_split\n",
    "from catboost import CatBoostClassifier, Pool\n",
    "import warnings\n",
    "\n",
    "warnings.filterwarnings('ignore')"
   ]
  },
  {
   "cell_type": "markdown",
   "id": "aef80181-6835-4b1e-a111-7e98d2809a7b",
   "metadata": {},
   "source": [
    "## Access the data"
   ]
  },
  {
   "cell_type": "code",
   "execution_count": 23,
   "id": "673f0127-193a-483b-9532-6d700dad373b",
   "metadata": {},
   "outputs": [],
   "source": [
    "data = pd.read_parquet('./data/preprocessed_data.parquet')"
   ]
  },
  {
   "cell_type": "code",
   "execution_count": 24,
   "id": "11da13cb-282a-467c-88f1-cdb3b92569a8",
   "metadata": {},
   "outputs": [
    {
     "data": {
      "text/html": [
       "<div>\n",
       "<style scoped>\n",
       "    .dataframe tbody tr th:only-of-type {\n",
       "        vertical-align: middle;\n",
       "    }\n",
       "\n",
       "    .dataframe tbody tr th {\n",
       "        vertical-align: top;\n",
       "    }\n",
       "\n",
       "    .dataframe thead th {\n",
       "        text-align: right;\n",
       "    }\n",
       "</style>\n",
       "<table border=\"1\" class=\"dataframe\">\n",
       "  <thead>\n",
       "    <tr style=\"text-align: right;\">\n",
       "      <th></th>\n",
       "      <th>review_id</th>\n",
       "      <th>product_id</th>\n",
       "      <th>product_category</th>\n",
       "      <th>total_votes</th>\n",
       "      <th>review</th>\n",
       "      <th>usefulness</th>\n",
       "    </tr>\n",
       "  </thead>\n",
       "  <tbody>\n",
       "    <tr>\n",
       "      <th>41</th>\n",
       "      <td>R1FBO737KD9F2N</td>\n",
       "      <td>B00NG57H4S</td>\n",
       "      <td>Electronics</td>\n",
       "      <td>23</td>\n",
       "      <td>Great noise cancelling headphones for the pric...</td>\n",
       "      <td>0.826087</td>\n",
       "    </tr>\n",
       "    <tr>\n",
       "      <th>145</th>\n",
       "      <td>R227GSNWI6BSZV</td>\n",
       "      <td>B00ICNXESC</td>\n",
       "      <td>Electronics</td>\n",
       "      <td>20</td>\n",
       "      <td>Garbage, lasted 8 months... warranty is useles...</td>\n",
       "      <td>1.000000</td>\n",
       "    </tr>\n",
       "    <tr>\n",
       "      <th>265</th>\n",
       "      <td>R4PF7S0TOV9S7</td>\n",
       "      <td>B00XR1MW4G</td>\n",
       "      <td>Electronics</td>\n",
       "      <td>17</td>\n",
       "      <td>A long lasting bluetooth sound bazooka!\\nThis ...</td>\n",
       "      <td>0.882353</td>\n",
       "    </tr>\n",
       "    <tr>\n",
       "      <th>274</th>\n",
       "      <td>R22LKIOKMSOG8A</td>\n",
       "      <td>B00XS3HGEO</td>\n",
       "      <td>Electronics</td>\n",
       "      <td>13</td>\n",
       "      <td>nice!\\nThis is a nice little turntable. Don't ...</td>\n",
       "      <td>0.923077</td>\n",
       "    </tr>\n",
       "    <tr>\n",
       "      <th>304</th>\n",
       "      <td>R3SJTYZBYBG4EE</td>\n",
       "      <td>B00L108SAW</td>\n",
       "      <td>Electronics</td>\n",
       "      <td>99</td>\n",
       "      <td>Very good charger for the price! But has a dow...</td>\n",
       "      <td>1.000000</td>\n",
       "    </tr>\n",
       "  </tbody>\n",
       "</table>\n",
       "</div>"
      ],
      "text/plain": [
       "          review_id  product_id product_category  total_votes  \\\n",
       "41   R1FBO737KD9F2N  B00NG57H4S      Electronics           23   \n",
       "145  R227GSNWI6BSZV  B00ICNXESC      Electronics           20   \n",
       "265   R4PF7S0TOV9S7  B00XR1MW4G      Electronics           17   \n",
       "274  R22LKIOKMSOG8A  B00XS3HGEO      Electronics           13   \n",
       "304  R3SJTYZBYBG4EE  B00L108SAW      Electronics           99   \n",
       "\n",
       "                                                review  usefulness  \n",
       "41   Great noise cancelling headphones for the pric...    0.826087  \n",
       "145  Garbage, lasted 8 months... warranty is useles...    1.000000  \n",
       "265  A long lasting bluetooth sound bazooka!\\nThis ...    0.882353  \n",
       "274  nice!\\nThis is a nice little turntable. Don't ...    0.923077  \n",
       "304  Very good charger for the price! But has a dow...    1.000000  "
      ]
     },
     "execution_count": 24,
     "metadata": {},
     "output_type": "execute_result"
    }
   ],
   "source": [
    "data.head()"
   ]
  },
  {
   "cell_type": "code",
   "execution_count": 25,
   "id": "81f1e9cb-e652-4eef-a9b8-35cc9e55c5ad",
   "metadata": {},
   "outputs": [],
   "source": [
    "# Split the data into train, val, and test sets\n",
    "X_train, X_test, y_train, y_test = train_test_split(data['review'], data['usefulness'], test_size=0.2, random_state=0)\n",
    "X_val, X_test, y_val, y_test = train_test_split(X_test, y_test, test_size=0.5, random_state=0)"
   ]
  },
  {
   "cell_type": "markdown",
   "id": "558c969e-e296-40f3-a118-8803938c8db9",
   "metadata": {},
   "source": [
    "## Select modeling technique & Build model"
   ]
  },
  {
   "cell_type": "code",
   "execution_count": 5,
   "id": "d478b183-580b-4f95-b572-b8cfb60f6e9f",
   "metadata": {},
   "outputs": [],
   "source": [
    "train_pool = Pool(X_train.reset_index(drop=True), y_train.reset_index(drop=True), text_features=['review'], feature_names=['review'])\n",
    "eval_pool  = Pool(X_val.reset_index(drop=True), y_val.reset_index(drop=True), text_features=['review'], feature_names=['review'])\n",
    "test_pool  = Pool(X_test.reset_index(drop=True), y_test.reset_index(drop=True), text_features=['review'], feature_names=['review'])\n",
    "\n",
    "model = CatBoostClassifier(text_features=['review'], verbose=False, loss_function='CrossEntropy', random_seed=0)"
   ]
  },
  {
   "cell_type": "code",
   "execution_count": 6,
   "id": "ce8bdc2b-dd41-4970-8af2-be6d10244d9f",
   "metadata": {},
   "outputs": [
    {
     "data": {
      "application/vnd.jupyter.widget-view+json": {
       "model_id": "1a796699a7ae462cb7a80feca6538a40",
       "version_major": 2,
       "version_minor": 0
      },
      "text/plain": [
       "MetricVisualizer(layout=Layout(align_self='stretch', height='500px'))"
      ]
     },
     "metadata": {},
     "output_type": "display_data"
    },
    {
     "data": {
      "text/plain": [
       "<catboost.core.CatBoostClassifier at 0x22aae20cad0>"
      ]
     },
     "execution_count": 6,
     "metadata": {},
     "output_type": "execute_result"
    }
   ],
   "source": [
    "# Train the model\n",
    "model.fit(train_pool, eval_set=eval_pool, plot=True)"
   ]
  },
  {
   "cell_type": "markdown",
   "id": "f0f02483-43b2-44a3-a0c6-8f6f90c4f467",
   "metadata": {},
   "source": [
    "## Evaluate the model"
   ]
  },
  {
   "cell_type": "code",
   "execution_count": 7,
   "id": "c1325500-587a-4665-a80d-3293d8009c75",
   "metadata": {},
   "outputs": [
    {
     "name": "stdout",
     "output_type": "stream",
     "text": [
      "Brier loss = 0.11326\n",
      "ROC_AUC = 0.62692\n"
     ]
    }
   ],
   "source": [
    "# Make predictions on the test set\n",
    "preds = model.predict(test_pool)\n",
    "\n",
    "print(f\"Brier loss = {brier_score_loss(preds, y_test.to_numpy()) :.5f}\")\n",
    "print(f\"ROC_AUC = {roc_auc_score(y_test.to_numpy() > 0.5, preds) :.5f}\")"
   ]
  },
  {
   "cell_type": "code",
   "execution_count": 10,
   "id": "995bc7d8-4047-4807-8704-38a8756efb29",
   "metadata": {},
   "outputs": [],
   "source": [
    "model.save_model('catboost_model')"
   ]
  },
  {
   "cell_type": "markdown",
   "id": "344476cd-e88a-4fdb-8fe5-00bf627f1c46",
   "metadata": {},
   "source": [
    "## Inference of summarization model"
   ]
  },
  {
   "cell_type": "code",
   "execution_count": 26,
   "id": "baf42835-d94b-4939-9904-1b2af5a14688",
   "metadata": {},
   "outputs": [
    {
     "data": {
      "text/plain": [
       "<catboost.core.CatBoostClassifier at 0x1f09ed137d0>"
      ]
     },
     "execution_count": 26,
     "metadata": {},
     "output_type": "execute_result"
    }
   ],
   "source": [
    "model = CatBoostClassifier()\n",
    "model.load_model('catboost_model')"
   ]
  },
  {
   "cell_type": "code",
   "execution_count": 82,
   "id": "592814a4-3ee9-425b-9bf8-04c1fd83414d",
   "metadata": {},
   "outputs": [],
   "source": [
    "from transformers import pipeline, logging\n",
    "logging.set_verbosity_error()\n",
    "\n",
    "\n",
    "summarizer = pipeline(\"summarization\", model=\"Falconsai/text_summarization\", device='cuda:0')"
   ]
  },
  {
   "cell_type": "code",
   "execution_count": 28,
   "id": "7b36c141-05e3-481b-b281-3019b0e5ed28",
   "metadata": {},
   "outputs": [],
   "source": [
    "_, X_test_with_id = train_test_split(data, test_size=0.2, random_state=0)\n",
    "_, X_test_with_id = train_test_split(X_test_with_id, test_size=0.5, random_state=0)"
   ]
  },
  {
   "cell_type": "code",
   "execution_count": 30,
   "id": "2f6fa060-430c-45d9-a816-18b7bc1a955f",
   "metadata": {},
   "outputs": [],
   "source": [
    "probs = model.predict_proba(test_pool)[:, 1]"
   ]
  },
  {
   "cell_type": "code",
   "execution_count": 33,
   "id": "739c1e77-20bc-4643-b621-810067a7af61",
   "metadata": {},
   "outputs": [],
   "source": [
    "X_test_with_id[\"usefulness\"] = probs"
   ]
  },
  {
   "cell_type": "code",
   "execution_count": 49,
   "id": "42d34e06-608b-4d3c-b397-dddf14c44168",
   "metadata": {},
   "outputs": [],
   "source": [
    "grouped = X_test_with_id.groupby('product_id').apply(lambda x: x.sort_values('usefulness', ascending=False))\n",
    "\n",
    "top_reviews = grouped.groupby(level=0).head(5).groupby(level=0)['review'].apply(lambda x: '\\n\\n'.join(x))"
   ]
  },
  {
   "cell_type": "code",
   "execution_count": 83,
   "id": "5511ea38-8cae-4a8c-bc01-0125e703f62d",
   "metadata": {},
   "outputs": [
    {
     "data": {
      "application/vnd.jupyter.widget-view+json": {
       "model_id": "cb4e960028694269a1a8dd8baefc9d76",
       "version_major": 2,
       "version_minor": 0
      },
      "text/plain": [
       "  0%|          | 0/125 [00:00<?, ?it/s]"
      ]
     },
     "metadata": {},
     "output_type": "display_data"
    }
   ],
   "source": [
    "from tqdm.auto import tqdm\n",
    "from datasets import Dataset\n",
    "from transformers import pipeline\n",
    "\n",
    "summaries = []\n",
    "reviews_dataset = Dataset.from_dict({\"text\": top_reviews.to_list()[:1000]})\n",
    "\n",
    "for i in tqdm(range(0, len(reviews_dataset), 8)):\n",
    "    batch = reviews_dataset.select(range(i, i+8))\n",
    "    batch_summaries = summarizer(batch[\"text\"], min_length=16, max_length=96)\n",
    "    summaries.extend(batch_summaries)"
   ]
  },
  {
   "cell_type": "code",
   "execution_count": 85,
   "id": "4486988f-9e2c-4638-bf1a-a2cc8567ec4d",
   "metadata": {},
   "outputs": [],
   "source": [
    "from evaluate import load\n",
    "\n",
    "rouge = load(\"rouge\")"
   ]
  },
  {
   "cell_type": "markdown",
   "id": "7e12c0c6-a7ca-4a67-8142-9c1c0a598516",
   "metadata": {},
   "source": [
    "## Ensure that after summarization meaning is preserved"
   ]
  },
  {
   "cell_type": "code",
   "execution_count": 93,
   "id": "47ef8ee7-a04d-4786-9469-5bb740413590",
   "metadata": {},
   "outputs": [
    {
     "name": "stdout",
     "output_type": "stream",
     "text": [
      "ROUGE-1 F1 score: 47.89\n",
      "ROUGE-2 F1 score: 45.57\n",
      "ROUGE-L F1 score: 47.18\n"
     ]
    }
   ],
   "source": [
    "results = rouge.compute(predictions=[sentence[\"summary_text\"] for sentence in summaries], references=top_reviews[:1000])\n",
    "print(f\"ROUGE-1 F1 score: {results['rouge1'] * 100:.2f}\")\n",
    "print(f\"ROUGE-2 F1 score: {results['rouge2'] * 100:.2f}\")\n",
    "print(f\"ROUGE-L F1 score: {results['rougeL'] * 100:.2f}\")"
   ]
  },
  {
   "cell_type": "code",
   "execution_count": null,
   "id": "c4cd6b8a-17f1-42fd-a202-7925d4157a5a",
   "metadata": {},
   "outputs": [],
   "source": []
  }
 ],
 "metadata": {
  "kernelspec": {
   "display_name": "Python 3 (ipykernel)",
   "language": "python",
   "name": "python3"
  },
  "language_info": {
   "codemirror_mode": {
    "name": "ipython",
    "version": 3
   },
   "file_extension": ".py",
   "mimetype": "text/x-python",
   "name": "python",
   "nbconvert_exporter": "python",
   "pygments_lexer": "ipython3",
   "version": "3.12.1"
  }
 },
 "nbformat": 4,
 "nbformat_minor": 5
}
