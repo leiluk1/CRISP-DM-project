{
  "cells": [
    {
      "cell_type": "markdown",
      "metadata": {
        "id": "OMnSMHFcZc7e"
      },
      "source": [
        "# Modeling\n",
        "-------------\n",
        "\n",
        "In modeling phase, various modeling techniques are selected and applied and their parameters are calibrated to optimal values. Typically, there are several techniques for the same data mining problem type. Some techniques have specific requirements on the form of data. Therefore, stepping back to the data preparation phase is often necessary.\n",
        "\n",
        "- Modeling techuique selection: Selection the actual modeling technique that is to be used.\n",
        "\n",
        "- Test design generation: Generateion of a procedure or mechanism to test the model's quality and validity.  Split the dataset into train and test set, build the model on the train set and estimate its quality on the separate test set.\n",
        "\n",
        "- Build model: Run the modeling tool on the prepared dataset to create one or more models.\n",
        "\n",
        "- Assess model: Summarize results of this task, list qualities of generated models (e.g.,in terms of accuracy) and rank their quality in relation to each other.\n"
      ]
    },
    {
      "cell_type": "code",
      "execution_count": 3,
      "metadata": {
        "colab": {
          "base_uri": "https://localhost:8080/"
        },
        "id": "dw4DxaWbZc7j",
        "outputId": "98e1f51e-66d8-4386-ae46-8f5804da0df6"
      },
      "outputs": [
        {
          "output_type": "stream",
          "name": "stderr",
          "text": [
            "[nltk_data] Downloading package stopwords to /root/nltk_data...\n",
            "[nltk_data]   Package stopwords is already up-to-date!\n"
          ]
        }
      ],
      "source": [
        "import pandas as pd\n",
        "import nltk\n",
        "from nltk.corpus import stopwords\n",
        "nltk.download('stopwords')\n",
        "\n",
        "from sklearn.feature_extraction.text import TfidfVectorizer, CountVectorizer\n",
        "from sklearn.linear_model import LinearRegression\n",
        "from sklearn.tree import DecisionTreeRegressor\n",
        "from sklearn.ensemble import GradientBoostingRegressor\n",
        "from sklearn.pipeline import Pipeline\n",
        "from sklearn.compose import ColumnTransformer\n",
        "from sklearn.preprocessing import LabelEncoder\n",
        "from sklearn.model_selection import train_test_split\n",
        "from sklearn.metrics import mean_squared_error\n",
        "import joblib\n"
      ]
    },
    {
      "cell_type": "markdown",
      "metadata": {
        "id": "LqEJQ6ntZc7n"
      },
      "source": [
        "## Access the data"
      ]
    },
    {
      "cell_type": "code",
      "execution_count": 4,
      "metadata": {
        "colab": {
          "base_uri": "https://localhost:8080/",
          "height": 423
        },
        "id": "Cx_9xWGyZc7o",
        "outputId": "734f19eb-f18c-4253-c480-f865119b1cb9"
      },
      "outputs": [
        {
          "output_type": "execute_result",
          "data": {
            "text/plain": [
              "              review_id  product_id product_category  total_votes  \\\n",
              "41       R1FBO737KD9F2N  B00NG57H4S      Electronics           23   \n",
              "145      R227GSNWI6BSZV  B00ICNXESC      Electronics           20   \n",
              "265       R4PF7S0TOV9S7  B00XR1MW4G      Electronics           17   \n",
              "274      R22LKIOKMSOG8A  B00XS3HGEO      Electronics           13   \n",
              "304      R3SJTYZBYBG4EE  B00L108SAW      Electronics           99   \n",
              "...                 ...         ...              ...          ...   \n",
              "9001932  R23WGBU0VIL6FA  B00000K390         Wireless           26   \n",
              "9001946  R1YWKS4FWD687C  B00001ZT56         Wireless           18   \n",
              "9001962  R2STV9N2M963YM  B00000K38X         Wireless           24   \n",
              "9001989  R25BIFCRPWPUHA  B00000J3H5         Wireless           46   \n",
              "9001998  R39FVEP4B66AKW  B00000J40U         Wireless           31   \n",
              "\n",
              "                                                    review  usefulness  \n",
              "41       Great noise cancelling headphones for the pric...    0.826087  \n",
              "145      Garbage, lasted 8 months... warranty is useles...    1.000000  \n",
              "265      A long lasting bluetooth sound bazooka!\\nThis ...    0.882353  \n",
              "274      nice!\\nThis is a nice little turntable. Don't ...    0.923077  \n",
              "304      Very good charger for the price! But has a dow...    1.000000  \n",
              "...                                                    ...         ...  \n",
              "9001932  Great little radios\\nI just purchased two of t...    1.000000  \n",
              "9001946  Sony FRS radio\\nI have been a FRS radio user f...    1.000000  \n",
              "9001962  Great\\nI have only had a short time, and I am ...    0.916667  \n",
              "9001989  Excellent - bearing in mind the power/range li...    0.586957  \n",
              "9001998  Great unit\\nUsed this unit for the first time ...    0.870968  \n",
              "\n",
              "[406831 rows x 6 columns]"
            ],
            "text/html": [
              "\n",
              "  <div id=\"df-e60c213a-520f-4a95-8e1f-123eefd723d7\" class=\"colab-df-container\">\n",
              "    <div>\n",
              "<style scoped>\n",
              "    .dataframe tbody tr th:only-of-type {\n",
              "        vertical-align: middle;\n",
              "    }\n",
              "\n",
              "    .dataframe tbody tr th {\n",
              "        vertical-align: top;\n",
              "    }\n",
              "\n",
              "    .dataframe thead th {\n",
              "        text-align: right;\n",
              "    }\n",
              "</style>\n",
              "<table border=\"1\" class=\"dataframe\">\n",
              "  <thead>\n",
              "    <tr style=\"text-align: right;\">\n",
              "      <th></th>\n",
              "      <th>review_id</th>\n",
              "      <th>product_id</th>\n",
              "      <th>product_category</th>\n",
              "      <th>total_votes</th>\n",
              "      <th>review</th>\n",
              "      <th>usefulness</th>\n",
              "    </tr>\n",
              "  </thead>\n",
              "  <tbody>\n",
              "    <tr>\n",
              "      <th>41</th>\n",
              "      <td>R1FBO737KD9F2N</td>\n",
              "      <td>B00NG57H4S</td>\n",
              "      <td>Electronics</td>\n",
              "      <td>23</td>\n",
              "      <td>Great noise cancelling headphones for the pric...</td>\n",
              "      <td>0.826087</td>\n",
              "    </tr>\n",
              "    <tr>\n",
              "      <th>145</th>\n",
              "      <td>R227GSNWI6BSZV</td>\n",
              "      <td>B00ICNXESC</td>\n",
              "      <td>Electronics</td>\n",
              "      <td>20</td>\n",
              "      <td>Garbage, lasted 8 months... warranty is useles...</td>\n",
              "      <td>1.000000</td>\n",
              "    </tr>\n",
              "    <tr>\n",
              "      <th>265</th>\n",
              "      <td>R4PF7S0TOV9S7</td>\n",
              "      <td>B00XR1MW4G</td>\n",
              "      <td>Electronics</td>\n",
              "      <td>17</td>\n",
              "      <td>A long lasting bluetooth sound bazooka!\\nThis ...</td>\n",
              "      <td>0.882353</td>\n",
              "    </tr>\n",
              "    <tr>\n",
              "      <th>274</th>\n",
              "      <td>R22LKIOKMSOG8A</td>\n",
              "      <td>B00XS3HGEO</td>\n",
              "      <td>Electronics</td>\n",
              "      <td>13</td>\n",
              "      <td>nice!\\nThis is a nice little turntable. Don't ...</td>\n",
              "      <td>0.923077</td>\n",
              "    </tr>\n",
              "    <tr>\n",
              "      <th>304</th>\n",
              "      <td>R3SJTYZBYBG4EE</td>\n",
              "      <td>B00L108SAW</td>\n",
              "      <td>Electronics</td>\n",
              "      <td>99</td>\n",
              "      <td>Very good charger for the price! But has a dow...</td>\n",
              "      <td>1.000000</td>\n",
              "    </tr>\n",
              "    <tr>\n",
              "      <th>...</th>\n",
              "      <td>...</td>\n",
              "      <td>...</td>\n",
              "      <td>...</td>\n",
              "      <td>...</td>\n",
              "      <td>...</td>\n",
              "      <td>...</td>\n",
              "    </tr>\n",
              "    <tr>\n",
              "      <th>9001932</th>\n",
              "      <td>R23WGBU0VIL6FA</td>\n",
              "      <td>B00000K390</td>\n",
              "      <td>Wireless</td>\n",
              "      <td>26</td>\n",
              "      <td>Great little radios\\nI just purchased two of t...</td>\n",
              "      <td>1.000000</td>\n",
              "    </tr>\n",
              "    <tr>\n",
              "      <th>9001946</th>\n",
              "      <td>R1YWKS4FWD687C</td>\n",
              "      <td>B00001ZT56</td>\n",
              "      <td>Wireless</td>\n",
              "      <td>18</td>\n",
              "      <td>Sony FRS radio\\nI have been a FRS radio user f...</td>\n",
              "      <td>1.000000</td>\n",
              "    </tr>\n",
              "    <tr>\n",
              "      <th>9001962</th>\n",
              "      <td>R2STV9N2M963YM</td>\n",
              "      <td>B00000K38X</td>\n",
              "      <td>Wireless</td>\n",
              "      <td>24</td>\n",
              "      <td>Great\\nI have only had a short time, and I am ...</td>\n",
              "      <td>0.916667</td>\n",
              "    </tr>\n",
              "    <tr>\n",
              "      <th>9001989</th>\n",
              "      <td>R25BIFCRPWPUHA</td>\n",
              "      <td>B00000J3H5</td>\n",
              "      <td>Wireless</td>\n",
              "      <td>46</td>\n",
              "      <td>Excellent - bearing in mind the power/range li...</td>\n",
              "      <td>0.586957</td>\n",
              "    </tr>\n",
              "    <tr>\n",
              "      <th>9001998</th>\n",
              "      <td>R39FVEP4B66AKW</td>\n",
              "      <td>B00000J40U</td>\n",
              "      <td>Wireless</td>\n",
              "      <td>31</td>\n",
              "      <td>Great unit\\nUsed this unit for the first time ...</td>\n",
              "      <td>0.870968</td>\n",
              "    </tr>\n",
              "  </tbody>\n",
              "</table>\n",
              "<p>406831 rows × 6 columns</p>\n",
              "</div>\n",
              "    <div class=\"colab-df-buttons\">\n",
              "\n",
              "  <div class=\"colab-df-container\">\n",
              "    <button class=\"colab-df-convert\" onclick=\"convertToInteractive('df-e60c213a-520f-4a95-8e1f-123eefd723d7')\"\n",
              "            title=\"Convert this dataframe to an interactive table.\"\n",
              "            style=\"display:none;\">\n",
              "\n",
              "  <svg xmlns=\"http://www.w3.org/2000/svg\" height=\"24px\" viewBox=\"0 -960 960 960\">\n",
              "    <path d=\"M120-120v-720h720v720H120Zm60-500h600v-160H180v160Zm220 220h160v-160H400v160Zm0 220h160v-160H400v160ZM180-400h160v-160H180v160Zm440 0h160v-160H620v160ZM180-180h160v-160H180v160Zm440 0h160v-160H620v160Z\"/>\n",
              "  </svg>\n",
              "    </button>\n",
              "\n",
              "  <style>\n",
              "    .colab-df-container {\n",
              "      display:flex;\n",
              "      gap: 12px;\n",
              "    }\n",
              "\n",
              "    .colab-df-convert {\n",
              "      background-color: #E8F0FE;\n",
              "      border: none;\n",
              "      border-radius: 50%;\n",
              "      cursor: pointer;\n",
              "      display: none;\n",
              "      fill: #1967D2;\n",
              "      height: 32px;\n",
              "      padding: 0 0 0 0;\n",
              "      width: 32px;\n",
              "    }\n",
              "\n",
              "    .colab-df-convert:hover {\n",
              "      background-color: #E2EBFA;\n",
              "      box-shadow: 0px 1px 2px rgba(60, 64, 67, 0.3), 0px 1px 3px 1px rgba(60, 64, 67, 0.15);\n",
              "      fill: #174EA6;\n",
              "    }\n",
              "\n",
              "    .colab-df-buttons div {\n",
              "      margin-bottom: 4px;\n",
              "    }\n",
              "\n",
              "    [theme=dark] .colab-df-convert {\n",
              "      background-color: #3B4455;\n",
              "      fill: #D2E3FC;\n",
              "    }\n",
              "\n",
              "    [theme=dark] .colab-df-convert:hover {\n",
              "      background-color: #434B5C;\n",
              "      box-shadow: 0px 1px 3px 1px rgba(0, 0, 0, 0.15);\n",
              "      filter: drop-shadow(0px 1px 2px rgba(0, 0, 0, 0.3));\n",
              "      fill: #FFFFFF;\n",
              "    }\n",
              "  </style>\n",
              "\n",
              "    <script>\n",
              "      const buttonEl =\n",
              "        document.querySelector('#df-e60c213a-520f-4a95-8e1f-123eefd723d7 button.colab-df-convert');\n",
              "      buttonEl.style.display =\n",
              "        google.colab.kernel.accessAllowed ? 'block' : 'none';\n",
              "\n",
              "      async function convertToInteractive(key) {\n",
              "        const element = document.querySelector('#df-e60c213a-520f-4a95-8e1f-123eefd723d7');\n",
              "        const dataTable =\n",
              "          await google.colab.kernel.invokeFunction('convertToInteractive',\n",
              "                                                    [key], {});\n",
              "        if (!dataTable) return;\n",
              "\n",
              "        const docLinkHtml = 'Like what you see? Visit the ' +\n",
              "          '<a target=\"_blank\" href=https://colab.research.google.com/notebooks/data_table.ipynb>data table notebook</a>'\n",
              "          + ' to learn more about interactive tables.';\n",
              "        element.innerHTML = '';\n",
              "        dataTable['output_type'] = 'display_data';\n",
              "        await google.colab.output.renderOutput(dataTable, element);\n",
              "        const docLink = document.createElement('div');\n",
              "        docLink.innerHTML = docLinkHtml;\n",
              "        element.appendChild(docLink);\n",
              "      }\n",
              "    </script>\n",
              "  </div>\n",
              "\n",
              "\n",
              "<div id=\"df-0839beeb-1ed4-49ba-ac9d-db6ff73b15f3\">\n",
              "  <button class=\"colab-df-quickchart\" onclick=\"quickchart('df-0839beeb-1ed4-49ba-ac9d-db6ff73b15f3')\"\n",
              "            title=\"Suggest charts\"\n",
              "            style=\"display:none;\">\n",
              "\n",
              "<svg xmlns=\"http://www.w3.org/2000/svg\" height=\"24px\"viewBox=\"0 0 24 24\"\n",
              "     width=\"24px\">\n",
              "    <g>\n",
              "        <path d=\"M19 3H5c-1.1 0-2 .9-2 2v14c0 1.1.9 2 2 2h14c1.1 0 2-.9 2-2V5c0-1.1-.9-2-2-2zM9 17H7v-7h2v7zm4 0h-2V7h2v10zm4 0h-2v-4h2v4z\"/>\n",
              "    </g>\n",
              "</svg>\n",
              "  </button>\n",
              "\n",
              "<style>\n",
              "  .colab-df-quickchart {\n",
              "      --bg-color: #E8F0FE;\n",
              "      --fill-color: #1967D2;\n",
              "      --hover-bg-color: #E2EBFA;\n",
              "      --hover-fill-color: #174EA6;\n",
              "      --disabled-fill-color: #AAA;\n",
              "      --disabled-bg-color: #DDD;\n",
              "  }\n",
              "\n",
              "  [theme=dark] .colab-df-quickchart {\n",
              "      --bg-color: #3B4455;\n",
              "      --fill-color: #D2E3FC;\n",
              "      --hover-bg-color: #434B5C;\n",
              "      --hover-fill-color: #FFFFFF;\n",
              "      --disabled-bg-color: #3B4455;\n",
              "      --disabled-fill-color: #666;\n",
              "  }\n",
              "\n",
              "  .colab-df-quickchart {\n",
              "    background-color: var(--bg-color);\n",
              "    border: none;\n",
              "    border-radius: 50%;\n",
              "    cursor: pointer;\n",
              "    display: none;\n",
              "    fill: var(--fill-color);\n",
              "    height: 32px;\n",
              "    padding: 0;\n",
              "    width: 32px;\n",
              "  }\n",
              "\n",
              "  .colab-df-quickchart:hover {\n",
              "    background-color: var(--hover-bg-color);\n",
              "    box-shadow: 0 1px 2px rgba(60, 64, 67, 0.3), 0 1px 3px 1px rgba(60, 64, 67, 0.15);\n",
              "    fill: var(--button-hover-fill-color);\n",
              "  }\n",
              "\n",
              "  .colab-df-quickchart-complete:disabled,\n",
              "  .colab-df-quickchart-complete:disabled:hover {\n",
              "    background-color: var(--disabled-bg-color);\n",
              "    fill: var(--disabled-fill-color);\n",
              "    box-shadow: none;\n",
              "  }\n",
              "\n",
              "  .colab-df-spinner {\n",
              "    border: 2px solid var(--fill-color);\n",
              "    border-color: transparent;\n",
              "    border-bottom-color: var(--fill-color);\n",
              "    animation:\n",
              "      spin 1s steps(1) infinite;\n",
              "  }\n",
              "\n",
              "  @keyframes spin {\n",
              "    0% {\n",
              "      border-color: transparent;\n",
              "      border-bottom-color: var(--fill-color);\n",
              "      border-left-color: var(--fill-color);\n",
              "    }\n",
              "    20% {\n",
              "      border-color: transparent;\n",
              "      border-left-color: var(--fill-color);\n",
              "      border-top-color: var(--fill-color);\n",
              "    }\n",
              "    30% {\n",
              "      border-color: transparent;\n",
              "      border-left-color: var(--fill-color);\n",
              "      border-top-color: var(--fill-color);\n",
              "      border-right-color: var(--fill-color);\n",
              "    }\n",
              "    40% {\n",
              "      border-color: transparent;\n",
              "      border-right-color: var(--fill-color);\n",
              "      border-top-color: var(--fill-color);\n",
              "    }\n",
              "    60% {\n",
              "      border-color: transparent;\n",
              "      border-right-color: var(--fill-color);\n",
              "    }\n",
              "    80% {\n",
              "      border-color: transparent;\n",
              "      border-right-color: var(--fill-color);\n",
              "      border-bottom-color: var(--fill-color);\n",
              "    }\n",
              "    90% {\n",
              "      border-color: transparent;\n",
              "      border-bottom-color: var(--fill-color);\n",
              "    }\n",
              "  }\n",
              "</style>\n",
              "\n",
              "  <script>\n",
              "    async function quickchart(key) {\n",
              "      const quickchartButtonEl =\n",
              "        document.querySelector('#' + key + ' button');\n",
              "      quickchartButtonEl.disabled = true;  // To prevent multiple clicks.\n",
              "      quickchartButtonEl.classList.add('colab-df-spinner');\n",
              "      try {\n",
              "        const charts = await google.colab.kernel.invokeFunction(\n",
              "            'suggestCharts', [key], {});\n",
              "      } catch (error) {\n",
              "        console.error('Error during call to suggestCharts:', error);\n",
              "      }\n",
              "      quickchartButtonEl.classList.remove('colab-df-spinner');\n",
              "      quickchartButtonEl.classList.add('colab-df-quickchart-complete');\n",
              "    }\n",
              "    (() => {\n",
              "      let quickchartButtonEl =\n",
              "        document.querySelector('#df-0839beeb-1ed4-49ba-ac9d-db6ff73b15f3 button');\n",
              "      quickchartButtonEl.style.display =\n",
              "        google.colab.kernel.accessAllowed ? 'block' : 'none';\n",
              "    })();\n",
              "  </script>\n",
              "</div>\n",
              "    </div>\n",
              "  </div>\n"
            ],
            "application/vnd.google.colaboratory.intrinsic+json": {
              "type": "dataframe",
              "variable_name": "dataset"
            }
          },
          "metadata": {},
          "execution_count": 4
        }
      ],
      "source": [
        "dataset = pd.read_parquet('../data/preprocessed_data.parquet')\n",
        "dataset"
      ]
    },
    {
      "cell_type": "markdown",
      "metadata": {
        "id": "_1WO5vZsZc7o"
      },
      "source": [
        "## Simple preprocessing"
      ]
    },
    {
      "cell_type": "code",
      "execution_count": 3,
      "metadata": {
        "id": "yy83CMFEZc7p"
      },
      "outputs": [],
      "source": [
        "dataset['review'] = dataset['review'].str.lower()\n",
        "# remove stopwords\n",
        "stop = stopwords.words('english')\n",
        "dataset['review'] = dataset['review'].apply(lambda x: ' '.join([word for word in x.split() if word not in (stop)]))\n",
        "dataset['review'] = dataset['review'].str.replace('[^a-zA-Z\\s]', '', regex=True)"
      ]
    },
    {
      "cell_type": "markdown",
      "metadata": {
        "id": "YS1lqDzFZc7q"
      },
      "source": [
        "## Apply label encoding to the `product_category` column"
      ]
    },
    {
      "cell_type": "code",
      "execution_count": 5,
      "metadata": {
        "id": "7ZV_D5LdZc7r"
      },
      "outputs": [],
      "source": [
        "label_encoder = LabelEncoder()\n",
        "dataset['product_category'] = label_encoder.fit_transform(dataset['product_category'])"
      ]
    },
    {
      "cell_type": "markdown",
      "metadata": {
        "id": "T7ipmSgTZc7s"
      },
      "source": [
        "## Select features and label from datasets"
      ]
    },
    {
      "cell_type": "code",
      "execution_count": 6,
      "metadata": {
        "id": "dO8-4DzfZc7t"
      },
      "outputs": [],
      "source": [
        "X = dataset[['product_category', 'total_votes', 'review']]"
      ]
    },
    {
      "cell_type": "code",
      "execution_count": 7,
      "metadata": {
        "id": "ADjoXbY1Zc7t"
      },
      "outputs": [],
      "source": [
        "y = dataset['usefulness']"
      ]
    },
    {
      "cell_type": "markdown",
      "metadata": {
        "id": "ptlkPidtZc7u"
      },
      "source": [
        "## Construct the column transformer"
      ]
    },
    {
      "cell_type": "code",
      "execution_count": null,
      "metadata": {
        "id": "3kncBiiFZc7w"
      },
      "outputs": [],
      "source": [
        "tfidf_vectorizer = TfidfVectorizer()\n",
        "count_vectorizer = CountVectorizer(min_df=0.02)\n",
        "\n",
        "column_transformer = ColumnTransformer(\n",
        "    transformers=[\n",
        "        ('tfidf', count_vectorizer, 'review'),\n",
        "    ],\n",
        "    remainder='passthrough'\n",
        ")"
      ]
    },
    {
      "cell_type": "markdown",
      "metadata": {
        "id": "c3xSvr34Zc7w"
      },
      "source": [
        "## Define models\n",
        "\n",
        "1. Decision Tree Regressor\n",
        "2. Linear Regression\n",
        "3. Gradient Boosting Regressor"
      ]
    },
    {
      "cell_type": "code",
      "execution_count": null,
      "metadata": {
        "id": "w16G46Q0Zc7x"
      },
      "outputs": [],
      "source": [
        "models = [\n",
        "    ('Decision Tree Regressor', DecisionTreeRegressor()),\n",
        "    ('Linear Regression', LinearRegression()),\n",
        "    ('Gradient Boosting Regressor', GradientBoostingRegressor())\n",
        "]"
      ]
    },
    {
      "cell_type": "markdown",
      "metadata": {
        "id": "PVXkP9YmZc7x"
      },
      "source": [
        "## Create a pipeline for each model"
      ]
    },
    {
      "cell_type": "code",
      "execution_count": null,
      "metadata": {
        "id": "sC4MimUyZc7y"
      },
      "outputs": [],
      "source": [
        "pipelines = []\n",
        "for name, model in models:\n",
        "    pipeline = Pipeline([\n",
        "        ('preprocessor', column_transformer),\n",
        "        ('model', model)\n",
        "    ])\n",
        "    pipelines.append((name, pipeline))"
      ]
    },
    {
      "cell_type": "markdown",
      "metadata": {
        "id": "_56w9otCZc7y"
      },
      "source": [
        "## Split data into train and test sets"
      ]
    },
    {
      "cell_type": "code",
      "execution_count": 13,
      "metadata": {
        "id": "cZfpzqdFZc7y"
      },
      "outputs": [],
      "source": [
        "X_train, X_test, y_train, y_test = train_test_split(X, y, test_size=0.2, random_state=0)"
      ]
    },
    {
      "cell_type": "markdown",
      "metadata": {
        "id": "YPXx-p7UZc7z"
      },
      "source": [
        "## Train and test models"
      ]
    },
    {
      "cell_type": "code",
      "execution_count": null,
      "metadata": {
        "id": "NwDe_q30Zc7z",
        "outputId": "d0b0caa6-3375-4a9d-d125-a0a9b301101d"
      },
      "outputs": [
        {
          "name": "stdout",
          "output_type": "stream",
          "text": [
            "Training Decision Tree Regressor\n",
            "Mean Squared Error: 0.11914937113486608\n",
            "\n",
            "Training Linear Regression\n",
            "Mean Squared Error: 0.06507291126904217\n",
            "\n",
            "Training Gradient Boosting Regressor\n",
            "Mean Squared Error: 0.060718931912111515\n",
            "\n"
          ]
        }
      ],
      "source": [
        "for name, pipeline in pipelines:\n",
        "    print(f'Training {name}')\n",
        "    pipeline.fit(X_train, y_train)\n",
        "    y_pred = pipeline.predict(X_test)\n",
        "    mse = mean_squared_error(y_test, y_pred)\n",
        "    print(f'Mean Squared Error: {mse}')\n",
        "\n",
        "     # Save the trained model\n",
        "    joblib.dump(pipeline, f'./models/{name}_model.pkl')\n",
        "    print()"
      ]
    },
    {
      "cell_type": "markdown",
      "metadata": {
        "id": "-J1Xi_tjZc7z"
      },
      "source": [
        "## Test models predictions after summarization"
      ]
    },
    {
      "cell_type": "code",
      "execution_count": 15,
      "metadata": {
        "id": "29orcgoWZc70"
      },
      "outputs": [],
      "source": [
        "gb_regressor_model = joblib.load('../models/Gradient Boosting Regressor_model.pkl')\n",
        "\n",
        "X_val, X_test, y_val, y_test = train_test_split(X_test, y_test, test_size=0.5, random_state=0)\n",
        "\n",
        "y_pred = gb_regressor_model.predict(X_test)"
      ]
    },
    {
      "cell_type": "code",
      "execution_count": 10,
      "metadata": {
        "colab": {
          "base_uri": "https://localhost:8080/"
        },
        "id": "UVozY0p4Zc70",
        "outputId": "5d7a332e-a586-4e2c-b8b6-e7a4b28c3bdd"
      },
      "outputs": [
        {
          "output_type": "stream",
          "name": "stderr",
          "text": [
            "/usr/local/lib/python3.10/dist-packages/huggingface_hub/file_download.py:1132: FutureWarning: `resume_download` is deprecated and will be removed in version 1.0.0. Downloads always resume when possible. If you want to force a new download, use `force_download=True`.\n",
            "  warnings.warn(\n",
            "/usr/local/lib/python3.10/dist-packages/huggingface_hub/utils/_token.py:89: UserWarning: \n",
            "The secret `HF_TOKEN` does not exist in your Colab secrets.\n",
            "To authenticate with the Hugging Face Hub, create a token in your settings tab (https://huggingface.co/settings/tokens), set it as secret in your Google Colab and restart your session.\n",
            "You will be able to reuse this secret in all of your notebooks.\n",
            "Please note that authentication is recommended but still optional to access public models or datasets.\n",
            "  warnings.warn(\n"
          ]
        }
      ],
      "source": [
        "from transformers import pipeline, logging\n",
        "logging.set_verbosity_error()\n",
        "\n",
        "\n",
        "summarizer = pipeline(\"summarization\", model=\"Falconsai/text_summarization\", device='cuda:0')"
      ]
    },
    {
      "cell_type": "code",
      "execution_count": 11,
      "metadata": {
        "id": "BL63CtbqZc70"
      },
      "outputs": [],
      "source": [
        "_, X_test_with_id = train_test_split(dataset, test_size=0.2, random_state=0)\n",
        "_, X_test_with_id = train_test_split(X_test_with_id, test_size=0.5, random_state=0)"
      ]
    },
    {
      "cell_type": "code",
      "execution_count": 16,
      "metadata": {
        "id": "sdu154dwZc70"
      },
      "outputs": [],
      "source": [
        "X_test_with_id[\"usefulness\"] = y_pred"
      ]
    },
    {
      "cell_type": "code",
      "execution_count": 17,
      "metadata": {
        "id": "tarw5hrqZc70"
      },
      "outputs": [],
      "source": [
        "grouped = X_test_with_id.groupby('product_id').apply(lambda x: x.sort_values('usefulness', ascending=False))\n",
        "\n",
        "top_reviews = grouped.groupby(level=0).head(5).groupby(level=0)['review'].apply(lambda x: '\\n\\n'.join(x))\n"
      ]
    },
    {
      "cell_type": "code",
      "execution_count": 18,
      "metadata": {
        "colab": {
          "base_uri": "https://localhost:8080/",
          "height": 49,
          "referenced_widgets": [
            "aeeb871f773d40e8bf9d85f27073f6e2",
            "ba5edb4e9fbc45299258d0ac72511a1b",
            "06995a736f9d4a77b03994a5b125d487",
            "316247cadfe9460aa1c2e269040dbd35",
            "157c52a0ee674186876719b83b34f896",
            "2bcc1e0e3f87461abbc97ddfc830703a",
            "2547ff48f2db4d2286a80e1fbfe38a22",
            "e9ae837ee8454a80b5732f004665e99f",
            "fc76c267885747ad93e7a045599d65ea",
            "d5bbef2f7eb442deadef659bfb4980cb",
            "d545cc78dce64269929ceff554909f90"
          ]
        },
        "id": "zRg1mCUAZc73",
        "outputId": "9a6769d1-cf66-4685-de7f-d0e797419a2a"
      },
      "outputs": [
        {
          "output_type": "display_data",
          "data": {
            "text/plain": [
              "  0%|          | 0/125 [00:00<?, ?it/s]"
            ],
            "application/vnd.jupyter.widget-view+json": {
              "version_major": 2,
              "version_minor": 0,
              "model_id": "aeeb871f773d40e8bf9d85f27073f6e2"
            }
          },
          "metadata": {}
        }
      ],
      "source": [
        "from tqdm.auto import tqdm\n",
        "from datasets import Dataset\n",
        "from transformers import pipeline\n",
        "\n",
        "summaries = []\n",
        "reviews_dataset = Dataset.from_dict({\"text\": top_reviews.to_list()[:1000]})\n",
        "\n",
        "for i in tqdm(range(0, len(reviews_dataset), 8)):\n",
        "    batch = reviews_dataset.select(range(i, i+8))\n",
        "    batch_summaries = summarizer(batch[\"text\"], min_length=16, max_length=96)\n",
        "    summaries.extend(batch_summaries)"
      ]
    },
    {
      "cell_type": "code",
      "execution_count": 19,
      "metadata": {
        "colab": {
          "base_uri": "https://localhost:8080/",
          "height": 49,
          "referenced_widgets": [
            "75610d34de17488e8f571b43daba13a9",
            "d41105c4fdfc4f38aa2731a47b8de81a",
            "202502eb6a1345ad9c6243c4e45bd50f",
            "a13c618ed0c147ee8a0ccb35ad8ec2ed",
            "3e131f9571c54f1081321565d6246f78",
            "a4c2aeb0a03a48e9873b6d06754c265f",
            "1e1005a0af824455a42d801aa2b31bdf",
            "d7c23a075ee34fe1a218acf059e09490",
            "e1c42a878bb1403195a1c192108d36fa",
            "9f9120f40f7e43de81fb5431d75a1f17",
            "fff1ee0950ab478ea76922379f977451"
          ]
        },
        "id": "yIyC43azZc74",
        "outputId": "43e93bff-8d10-42a8-ee5b-646068491752"
      },
      "outputs": [
        {
          "output_type": "display_data",
          "data": {
            "text/plain": [
              "Downloading builder script:   0%|          | 0.00/6.27k [00:00<?, ?B/s]"
            ],
            "application/vnd.jupyter.widget-view+json": {
              "version_major": 2,
              "version_minor": 0,
              "model_id": "75610d34de17488e8f571b43daba13a9"
            }
          },
          "metadata": {}
        }
      ],
      "source": [
        "from evaluate import load\n",
        "\n",
        "rouge = load(\"rouge\")"
      ]
    },
    {
      "cell_type": "code",
      "execution_count": 21,
      "metadata": {
        "colab": {
          "base_uri": "https://localhost:8080/"
        },
        "id": "WlsBPKgsZc75",
        "outputId": "2cd835f1-683e-4a14-8f6a-61bc76907727"
      },
      "outputs": [
        {
          "output_type": "stream",
          "name": "stdout",
          "text": [
            "ROUGE-1 F1 score: 47.94\n",
            "ROUGE-2 F1 score: 45.62\n",
            "ROUGE-L F1 score: 47.28\n"
          ]
        }
      ],
      "source": [
        "results = rouge.compute(predictions=[sentence[\"summary_text\"] for sentence in summaries], references=top_reviews[:1000])\n",
        "print(f\"ROUGE-1 F1 score: {results['rouge1'] * 100:.2f}\")\n",
        "print(f\"ROUGE-2 F1 score: {results['rouge2'] * 100:.2f}\")\n",
        "print(f\"ROUGE-L F1 score: {results['rougeL'] * 100:.2f}\")"
      ]
    }
  ],
  "metadata": {
    "kernelspec": {
      "display_name": "Python 3",
      "name": "python3"
    },
    "language_info": {
      "codemirror_mode": {
        "name": "ipython",
        "version": 3
      },
      "file_extension": ".py",
      "mimetype": "text/x-python",
      "name": "python",
      "nbconvert_exporter": "python",
      "pygments_lexer": "ipython3",
      "version": "3.11.0"
    },
    "colab": {
      "provenance": [],
      "gpuType": "T4"
    },
    "accelerator": "GPU",
    "widgets": {
      "application/vnd.jupyter.widget-state+json": {
        "aeeb871f773d40e8bf9d85f27073f6e2": {
          "model_module": "@jupyter-widgets/controls",
          "model_name": "HBoxModel",
          "model_module_version": "1.5.0",
          "state": {
            "_dom_classes": [],
            "_model_module": "@jupyter-widgets/controls",
            "_model_module_version": "1.5.0",
            "_model_name": "HBoxModel",
            "_view_count": null,
            "_view_module": "@jupyter-widgets/controls",
            "_view_module_version": "1.5.0",
            "_view_name": "HBoxView",
            "box_style": "",
            "children": [
              "IPY_MODEL_ba5edb4e9fbc45299258d0ac72511a1b",
              "IPY_MODEL_06995a736f9d4a77b03994a5b125d487",
              "IPY_MODEL_316247cadfe9460aa1c2e269040dbd35"
            ],
            "layout": "IPY_MODEL_157c52a0ee674186876719b83b34f896"
          }
        },
        "ba5edb4e9fbc45299258d0ac72511a1b": {
          "model_module": "@jupyter-widgets/controls",
          "model_name": "HTMLModel",
          "model_module_version": "1.5.0",
          "state": {
            "_dom_classes": [],
            "_model_module": "@jupyter-widgets/controls",
            "_model_module_version": "1.5.0",
            "_model_name": "HTMLModel",
            "_view_count": null,
            "_view_module": "@jupyter-widgets/controls",
            "_view_module_version": "1.5.0",
            "_view_name": "HTMLView",
            "description": "",
            "description_tooltip": null,
            "layout": "IPY_MODEL_2bcc1e0e3f87461abbc97ddfc830703a",
            "placeholder": "​",
            "style": "IPY_MODEL_2547ff48f2db4d2286a80e1fbfe38a22",
            "value": "100%"
          }
        },
        "06995a736f9d4a77b03994a5b125d487": {
          "model_module": "@jupyter-widgets/controls",
          "model_name": "FloatProgressModel",
          "model_module_version": "1.5.0",
          "state": {
            "_dom_classes": [],
            "_model_module": "@jupyter-widgets/controls",
            "_model_module_version": "1.5.0",
            "_model_name": "FloatProgressModel",
            "_view_count": null,
            "_view_module": "@jupyter-widgets/controls",
            "_view_module_version": "1.5.0",
            "_view_name": "ProgressView",
            "bar_style": "success",
            "description": "",
            "description_tooltip": null,
            "layout": "IPY_MODEL_e9ae837ee8454a80b5732f004665e99f",
            "max": 125,
            "min": 0,
            "orientation": "horizontal",
            "style": "IPY_MODEL_fc76c267885747ad93e7a045599d65ea",
            "value": 125
          }
        },
        "316247cadfe9460aa1c2e269040dbd35": {
          "model_module": "@jupyter-widgets/controls",
          "model_name": "HTMLModel",
          "model_module_version": "1.5.0",
          "state": {
            "_dom_classes": [],
            "_model_module": "@jupyter-widgets/controls",
            "_model_module_version": "1.5.0",
            "_model_name": "HTMLModel",
            "_view_count": null,
            "_view_module": "@jupyter-widgets/controls",
            "_view_module_version": "1.5.0",
            "_view_name": "HTMLView",
            "description": "",
            "description_tooltip": null,
            "layout": "IPY_MODEL_d5bbef2f7eb442deadef659bfb4980cb",
            "placeholder": "​",
            "style": "IPY_MODEL_d545cc78dce64269929ceff554909f90",
            "value": " 125/125 [12:47&lt;00:00,  5.87s/it]"
          }
        },
        "157c52a0ee674186876719b83b34f896": {
          "model_module": "@jupyter-widgets/base",
          "model_name": "LayoutModel",
          "model_module_version": "1.2.0",
          "state": {
            "_model_module": "@jupyter-widgets/base",
            "_model_module_version": "1.2.0",
            "_model_name": "LayoutModel",
            "_view_count": null,
            "_view_module": "@jupyter-widgets/base",
            "_view_module_version": "1.2.0",
            "_view_name": "LayoutView",
            "align_content": null,
            "align_items": null,
            "align_self": null,
            "border": null,
            "bottom": null,
            "display": null,
            "flex": null,
            "flex_flow": null,
            "grid_area": null,
            "grid_auto_columns": null,
            "grid_auto_flow": null,
            "grid_auto_rows": null,
            "grid_column": null,
            "grid_gap": null,
            "grid_row": null,
            "grid_template_areas": null,
            "grid_template_columns": null,
            "grid_template_rows": null,
            "height": null,
            "justify_content": null,
            "justify_items": null,
            "left": null,
            "margin": null,
            "max_height": null,
            "max_width": null,
            "min_height": null,
            "min_width": null,
            "object_fit": null,
            "object_position": null,
            "order": null,
            "overflow": null,
            "overflow_x": null,
            "overflow_y": null,
            "padding": null,
            "right": null,
            "top": null,
            "visibility": null,
            "width": null
          }
        },
        "2bcc1e0e3f87461abbc97ddfc830703a": {
          "model_module": "@jupyter-widgets/base",
          "model_name": "LayoutModel",
          "model_module_version": "1.2.0",
          "state": {
            "_model_module": "@jupyter-widgets/base",
            "_model_module_version": "1.2.0",
            "_model_name": "LayoutModel",
            "_view_count": null,
            "_view_module": "@jupyter-widgets/base",
            "_view_module_version": "1.2.0",
            "_view_name": "LayoutView",
            "align_content": null,
            "align_items": null,
            "align_self": null,
            "border": null,
            "bottom": null,
            "display": null,
            "flex": null,
            "flex_flow": null,
            "grid_area": null,
            "grid_auto_columns": null,
            "grid_auto_flow": null,
            "grid_auto_rows": null,
            "grid_column": null,
            "grid_gap": null,
            "grid_row": null,
            "grid_template_areas": null,
            "grid_template_columns": null,
            "grid_template_rows": null,
            "height": null,
            "justify_content": null,
            "justify_items": null,
            "left": null,
            "margin": null,
            "max_height": null,
            "max_width": null,
            "min_height": null,
            "min_width": null,
            "object_fit": null,
            "object_position": null,
            "order": null,
            "overflow": null,
            "overflow_x": null,
            "overflow_y": null,
            "padding": null,
            "right": null,
            "top": null,
            "visibility": null,
            "width": null
          }
        },
        "2547ff48f2db4d2286a80e1fbfe38a22": {
          "model_module": "@jupyter-widgets/controls",
          "model_name": "DescriptionStyleModel",
          "model_module_version": "1.5.0",
          "state": {
            "_model_module": "@jupyter-widgets/controls",
            "_model_module_version": "1.5.0",
            "_model_name": "DescriptionStyleModel",
            "_view_count": null,
            "_view_module": "@jupyter-widgets/base",
            "_view_module_version": "1.2.0",
            "_view_name": "StyleView",
            "description_width": ""
          }
        },
        "e9ae837ee8454a80b5732f004665e99f": {
          "model_module": "@jupyter-widgets/base",
          "model_name": "LayoutModel",
          "model_module_version": "1.2.0",
          "state": {
            "_model_module": "@jupyter-widgets/base",
            "_model_module_version": "1.2.0",
            "_model_name": "LayoutModel",
            "_view_count": null,
            "_view_module": "@jupyter-widgets/base",
            "_view_module_version": "1.2.0",
            "_view_name": "LayoutView",
            "align_content": null,
            "align_items": null,
            "align_self": null,
            "border": null,
            "bottom": null,
            "display": null,
            "flex": null,
            "flex_flow": null,
            "grid_area": null,
            "grid_auto_columns": null,
            "grid_auto_flow": null,
            "grid_auto_rows": null,
            "grid_column": null,
            "grid_gap": null,
            "grid_row": null,
            "grid_template_areas": null,
            "grid_template_columns": null,
            "grid_template_rows": null,
            "height": null,
            "justify_content": null,
            "justify_items": null,
            "left": null,
            "margin": null,
            "max_height": null,
            "max_width": null,
            "min_height": null,
            "min_width": null,
            "object_fit": null,
            "object_position": null,
            "order": null,
            "overflow": null,
            "overflow_x": null,
            "overflow_y": null,
            "padding": null,
            "right": null,
            "top": null,
            "visibility": null,
            "width": null
          }
        },
        "fc76c267885747ad93e7a045599d65ea": {
          "model_module": "@jupyter-widgets/controls",
          "model_name": "ProgressStyleModel",
          "model_module_version": "1.5.0",
          "state": {
            "_model_module": "@jupyter-widgets/controls",
            "_model_module_version": "1.5.0",
            "_model_name": "ProgressStyleModel",
            "_view_count": null,
            "_view_module": "@jupyter-widgets/base",
            "_view_module_version": "1.2.0",
            "_view_name": "StyleView",
            "bar_color": null,
            "description_width": ""
          }
        },
        "d5bbef2f7eb442deadef659bfb4980cb": {
          "model_module": "@jupyter-widgets/base",
          "model_name": "LayoutModel",
          "model_module_version": "1.2.0",
          "state": {
            "_model_module": "@jupyter-widgets/base",
            "_model_module_version": "1.2.0",
            "_model_name": "LayoutModel",
            "_view_count": null,
            "_view_module": "@jupyter-widgets/base",
            "_view_module_version": "1.2.0",
            "_view_name": "LayoutView",
            "align_content": null,
            "align_items": null,
            "align_self": null,
            "border": null,
            "bottom": null,
            "display": null,
            "flex": null,
            "flex_flow": null,
            "grid_area": null,
            "grid_auto_columns": null,
            "grid_auto_flow": null,
            "grid_auto_rows": null,
            "grid_column": null,
            "grid_gap": null,
            "grid_row": null,
            "grid_template_areas": null,
            "grid_template_columns": null,
            "grid_template_rows": null,
            "height": null,
            "justify_content": null,
            "justify_items": null,
            "left": null,
            "margin": null,
            "max_height": null,
            "max_width": null,
            "min_height": null,
            "min_width": null,
            "object_fit": null,
            "object_position": null,
            "order": null,
            "overflow": null,
            "overflow_x": null,
            "overflow_y": null,
            "padding": null,
            "right": null,
            "top": null,
            "visibility": null,
            "width": null
          }
        },
        "d545cc78dce64269929ceff554909f90": {
          "model_module": "@jupyter-widgets/controls",
          "model_name": "DescriptionStyleModel",
          "model_module_version": "1.5.0",
          "state": {
            "_model_module": "@jupyter-widgets/controls",
            "_model_module_version": "1.5.0",
            "_model_name": "DescriptionStyleModel",
            "_view_count": null,
            "_view_module": "@jupyter-widgets/base",
            "_view_module_version": "1.2.0",
            "_view_name": "StyleView",
            "description_width": ""
          }
        },
        "75610d34de17488e8f571b43daba13a9": {
          "model_module": "@jupyter-widgets/controls",
          "model_name": "HBoxModel",
          "model_module_version": "1.5.0",
          "state": {
            "_dom_classes": [],
            "_model_module": "@jupyter-widgets/controls",
            "_model_module_version": "1.5.0",
            "_model_name": "HBoxModel",
            "_view_count": null,
            "_view_module": "@jupyter-widgets/controls",
            "_view_module_version": "1.5.0",
            "_view_name": "HBoxView",
            "box_style": "",
            "children": [
              "IPY_MODEL_d41105c4fdfc4f38aa2731a47b8de81a",
              "IPY_MODEL_202502eb6a1345ad9c6243c4e45bd50f",
              "IPY_MODEL_a13c618ed0c147ee8a0ccb35ad8ec2ed"
            ],
            "layout": "IPY_MODEL_3e131f9571c54f1081321565d6246f78"
          }
        },
        "d41105c4fdfc4f38aa2731a47b8de81a": {
          "model_module": "@jupyter-widgets/controls",
          "model_name": "HTMLModel",
          "model_module_version": "1.5.0",
          "state": {
            "_dom_classes": [],
            "_model_module": "@jupyter-widgets/controls",
            "_model_module_version": "1.5.0",
            "_model_name": "HTMLModel",
            "_view_count": null,
            "_view_module": "@jupyter-widgets/controls",
            "_view_module_version": "1.5.0",
            "_view_name": "HTMLView",
            "description": "",
            "description_tooltip": null,
            "layout": "IPY_MODEL_a4c2aeb0a03a48e9873b6d06754c265f",
            "placeholder": "​",
            "style": "IPY_MODEL_1e1005a0af824455a42d801aa2b31bdf",
            "value": "Downloading builder script: 100%"
          }
        },
        "202502eb6a1345ad9c6243c4e45bd50f": {
          "model_module": "@jupyter-widgets/controls",
          "model_name": "FloatProgressModel",
          "model_module_version": "1.5.0",
          "state": {
            "_dom_classes": [],
            "_model_module": "@jupyter-widgets/controls",
            "_model_module_version": "1.5.0",
            "_model_name": "FloatProgressModel",
            "_view_count": null,
            "_view_module": "@jupyter-widgets/controls",
            "_view_module_version": "1.5.0",
            "_view_name": "ProgressView",
            "bar_style": "success",
            "description": "",
            "description_tooltip": null,
            "layout": "IPY_MODEL_d7c23a075ee34fe1a218acf059e09490",
            "max": 6270,
            "min": 0,
            "orientation": "horizontal",
            "style": "IPY_MODEL_e1c42a878bb1403195a1c192108d36fa",
            "value": 6270
          }
        },
        "a13c618ed0c147ee8a0ccb35ad8ec2ed": {
          "model_module": "@jupyter-widgets/controls",
          "model_name": "HTMLModel",
          "model_module_version": "1.5.0",
          "state": {
            "_dom_classes": [],
            "_model_module": "@jupyter-widgets/controls",
            "_model_module_version": "1.5.0",
            "_model_name": "HTMLModel",
            "_view_count": null,
            "_view_module": "@jupyter-widgets/controls",
            "_view_module_version": "1.5.0",
            "_view_name": "HTMLView",
            "description": "",
            "description_tooltip": null,
            "layout": "IPY_MODEL_9f9120f40f7e43de81fb5431d75a1f17",
            "placeholder": "​",
            "style": "IPY_MODEL_fff1ee0950ab478ea76922379f977451",
            "value": " 6.27k/6.27k [00:00&lt;00:00, 493kB/s]"
          }
        },
        "3e131f9571c54f1081321565d6246f78": {
          "model_module": "@jupyter-widgets/base",
          "model_name": "LayoutModel",
          "model_module_version": "1.2.0",
          "state": {
            "_model_module": "@jupyter-widgets/base",
            "_model_module_version": "1.2.0",
            "_model_name": "LayoutModel",
            "_view_count": null,
            "_view_module": "@jupyter-widgets/base",
            "_view_module_version": "1.2.0",
            "_view_name": "LayoutView",
            "align_content": null,
            "align_items": null,
            "align_self": null,
            "border": null,
            "bottom": null,
            "display": null,
            "flex": null,
            "flex_flow": null,
            "grid_area": null,
            "grid_auto_columns": null,
            "grid_auto_flow": null,
            "grid_auto_rows": null,
            "grid_column": null,
            "grid_gap": null,
            "grid_row": null,
            "grid_template_areas": null,
            "grid_template_columns": null,
            "grid_template_rows": null,
            "height": null,
            "justify_content": null,
            "justify_items": null,
            "left": null,
            "margin": null,
            "max_height": null,
            "max_width": null,
            "min_height": null,
            "min_width": null,
            "object_fit": null,
            "object_position": null,
            "order": null,
            "overflow": null,
            "overflow_x": null,
            "overflow_y": null,
            "padding": null,
            "right": null,
            "top": null,
            "visibility": null,
            "width": null
          }
        },
        "a4c2aeb0a03a48e9873b6d06754c265f": {
          "model_module": "@jupyter-widgets/base",
          "model_name": "LayoutModel",
          "model_module_version": "1.2.0",
          "state": {
            "_model_module": "@jupyter-widgets/base",
            "_model_module_version": "1.2.0",
            "_model_name": "LayoutModel",
            "_view_count": null,
            "_view_module": "@jupyter-widgets/base",
            "_view_module_version": "1.2.0",
            "_view_name": "LayoutView",
            "align_content": null,
            "align_items": null,
            "align_self": null,
            "border": null,
            "bottom": null,
            "display": null,
            "flex": null,
            "flex_flow": null,
            "grid_area": null,
            "grid_auto_columns": null,
            "grid_auto_flow": null,
            "grid_auto_rows": null,
            "grid_column": null,
            "grid_gap": null,
            "grid_row": null,
            "grid_template_areas": null,
            "grid_template_columns": null,
            "grid_template_rows": null,
            "height": null,
            "justify_content": null,
            "justify_items": null,
            "left": null,
            "margin": null,
            "max_height": null,
            "max_width": null,
            "min_height": null,
            "min_width": null,
            "object_fit": null,
            "object_position": null,
            "order": null,
            "overflow": null,
            "overflow_x": null,
            "overflow_y": null,
            "padding": null,
            "right": null,
            "top": null,
            "visibility": null,
            "width": null
          }
        },
        "1e1005a0af824455a42d801aa2b31bdf": {
          "model_module": "@jupyter-widgets/controls",
          "model_name": "DescriptionStyleModel",
          "model_module_version": "1.5.0",
          "state": {
            "_model_module": "@jupyter-widgets/controls",
            "_model_module_version": "1.5.0",
            "_model_name": "DescriptionStyleModel",
            "_view_count": null,
            "_view_module": "@jupyter-widgets/base",
            "_view_module_version": "1.2.0",
            "_view_name": "StyleView",
            "description_width": ""
          }
        },
        "d7c23a075ee34fe1a218acf059e09490": {
          "model_module": "@jupyter-widgets/base",
          "model_name": "LayoutModel",
          "model_module_version": "1.2.0",
          "state": {
            "_model_module": "@jupyter-widgets/base",
            "_model_module_version": "1.2.0",
            "_model_name": "LayoutModel",
            "_view_count": null,
            "_view_module": "@jupyter-widgets/base",
            "_view_module_version": "1.2.0",
            "_view_name": "LayoutView",
            "align_content": null,
            "align_items": null,
            "align_self": null,
            "border": null,
            "bottom": null,
            "display": null,
            "flex": null,
            "flex_flow": null,
            "grid_area": null,
            "grid_auto_columns": null,
            "grid_auto_flow": null,
            "grid_auto_rows": null,
            "grid_column": null,
            "grid_gap": null,
            "grid_row": null,
            "grid_template_areas": null,
            "grid_template_columns": null,
            "grid_template_rows": null,
            "height": null,
            "justify_content": null,
            "justify_items": null,
            "left": null,
            "margin": null,
            "max_height": null,
            "max_width": null,
            "min_height": null,
            "min_width": null,
            "object_fit": null,
            "object_position": null,
            "order": null,
            "overflow": null,
            "overflow_x": null,
            "overflow_y": null,
            "padding": null,
            "right": null,
            "top": null,
            "visibility": null,
            "width": null
          }
        },
        "e1c42a878bb1403195a1c192108d36fa": {
          "model_module": "@jupyter-widgets/controls",
          "model_name": "ProgressStyleModel",
          "model_module_version": "1.5.0",
          "state": {
            "_model_module": "@jupyter-widgets/controls",
            "_model_module_version": "1.5.0",
            "_model_name": "ProgressStyleModel",
            "_view_count": null,
            "_view_module": "@jupyter-widgets/base",
            "_view_module_version": "1.2.0",
            "_view_name": "StyleView",
            "bar_color": null,
            "description_width": ""
          }
        },
        "9f9120f40f7e43de81fb5431d75a1f17": {
          "model_module": "@jupyter-widgets/base",
          "model_name": "LayoutModel",
          "model_module_version": "1.2.0",
          "state": {
            "_model_module": "@jupyter-widgets/base",
            "_model_module_version": "1.2.0",
            "_model_name": "LayoutModel",
            "_view_count": null,
            "_view_module": "@jupyter-widgets/base",
            "_view_module_version": "1.2.0",
            "_view_name": "LayoutView",
            "align_content": null,
            "align_items": null,
            "align_self": null,
            "border": null,
            "bottom": null,
            "display": null,
            "flex": null,
            "flex_flow": null,
            "grid_area": null,
            "grid_auto_columns": null,
            "grid_auto_flow": null,
            "grid_auto_rows": null,
            "grid_column": null,
            "grid_gap": null,
            "grid_row": null,
            "grid_template_areas": null,
            "grid_template_columns": null,
            "grid_template_rows": null,
            "height": null,
            "justify_content": null,
            "justify_items": null,
            "left": null,
            "margin": null,
            "max_height": null,
            "max_width": null,
            "min_height": null,
            "min_width": null,
            "object_fit": null,
            "object_position": null,
            "order": null,
            "overflow": null,
            "overflow_x": null,
            "overflow_y": null,
            "padding": null,
            "right": null,
            "top": null,
            "visibility": null,
            "width": null
          }
        },
        "fff1ee0950ab478ea76922379f977451": {
          "model_module": "@jupyter-widgets/controls",
          "model_name": "DescriptionStyleModel",
          "model_module_version": "1.5.0",
          "state": {
            "_model_module": "@jupyter-widgets/controls",
            "_model_module_version": "1.5.0",
            "_model_name": "DescriptionStyleModel",
            "_view_count": null,
            "_view_module": "@jupyter-widgets/base",
            "_view_module_version": "1.2.0",
            "_view_name": "StyleView",
            "description_width": ""
          }
        }
      }
    }
  },
  "nbformat": 4,
  "nbformat_minor": 0
}