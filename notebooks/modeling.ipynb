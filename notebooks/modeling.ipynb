{
 "cells": [
  {
   "cell_type": "markdown",
   "metadata": {},
   "source": [
    "# Modeling\n",
    "-------------\n",
    "\n",
    "In modeling phase, various modeling techniques are selected and applied and their parameters are calibrated to optimal values. Typically, there are several techniques for the same data mining problem type. Some techniques have specific requirements on the form of data. Therefore, stepping back to the data preparation phase is often necessary.\n",
    "\n",
    "- Modeling techuique selection: Selection the actual modeling technique that is to be used. \n",
    "\n",
    "- Test design generation: Generateion of a procedure or mechanism to test the model's quality and validity.  Split the dataset into train and test set, build the model on the train set and estimate its quality on the separate test set.\n",
    "\n",
    "- Build model: Run the modeling tool on the prepared dataset to create one or more models.\n",
    "\n",
    "- Assess model: Summarize results of this task, list qualities of generated models (e.g.,in terms of accuracy) and rank their quality in relation to each other. \n"
   ]
  },
  {
   "cell_type": "code",
   "execution_count": 13,
   "metadata": {},
   "outputs": [
    {
     "name": "stderr",
     "output_type": "stream",
     "text": [
      "[nltk_data] Downloading package stopwords to\n",
      "[nltk_data]     C:\\Users\\karin\\AppData\\Roaming\\nltk_data...\n",
      "[nltk_data]   Package stopwords is already up-to-date!\n"
     ]
    }
   ],
   "source": [
    "import pandas as pd\n",
    "import nltk\n",
    "from nltk.corpus import stopwords\n",
    "nltk.download('stopwords')\n",
    "\n",
    "from sklearn.feature_extraction.text import TfidfVectorizer, CountVectorizer\n",
    "from sklearn.linear_model import LinearRegression\n",
    "from sklearn.tree import DecisionTreeRegressor\n",
    "from sklearn.ensemble import GradientBoostingRegressor\n",
    "from sklearn.pipeline import Pipeline\n",
    "from sklearn.compose import ColumnTransformer\n",
    "from sklearn.preprocessing import LabelEncoder\n",
    "from sklearn.model_selection import train_test_split\n",
    "from sklearn.metrics import mean_squared_error\n",
    "import joblib\n"
   ]
  },
  {
   "cell_type": "markdown",
   "metadata": {},
   "source": [
    "## Access the data"
   ]
  },
  {
   "cell_type": "code",
   "execution_count": 2,
   "metadata": {},
   "outputs": [
    {
     "data": {
      "text/html": [
       "<div>\n",
       "<style scoped>\n",
       "    .dataframe tbody tr th:only-of-type {\n",
       "        vertical-align: middle;\n",
       "    }\n",
       "\n",
       "    .dataframe tbody tr th {\n",
       "        vertical-align: top;\n",
       "    }\n",
       "\n",
       "    .dataframe thead th {\n",
       "        text-align: right;\n",
       "    }\n",
       "</style>\n",
       "<table border=\"1\" class=\"dataframe\">\n",
       "  <thead>\n",
       "    <tr style=\"text-align: right;\">\n",
       "      <th></th>\n",
       "      <th>review_id</th>\n",
       "      <th>product_category</th>\n",
       "      <th>total_votes</th>\n",
       "      <th>review</th>\n",
       "      <th>usefulness</th>\n",
       "    </tr>\n",
       "  </thead>\n",
       "  <tbody>\n",
       "    <tr>\n",
       "      <th>41</th>\n",
       "      <td>R1FBO737KD9F2N</td>\n",
       "      <td>Electronics</td>\n",
       "      <td>23</td>\n",
       "      <td>Great noise cancelling headphones for the pric...</td>\n",
       "      <td>0.826087</td>\n",
       "    </tr>\n",
       "    <tr>\n",
       "      <th>145</th>\n",
       "      <td>R227GSNWI6BSZV</td>\n",
       "      <td>Electronics</td>\n",
       "      <td>20</td>\n",
       "      <td>Garbage, lasted 8 months... warranty is useles...</td>\n",
       "      <td>1.000000</td>\n",
       "    </tr>\n",
       "    <tr>\n",
       "      <th>265</th>\n",
       "      <td>R4PF7S0TOV9S7</td>\n",
       "      <td>Electronics</td>\n",
       "      <td>17</td>\n",
       "      <td>A long lasting bluetooth sound bazooka!\\nThis ...</td>\n",
       "      <td>0.882353</td>\n",
       "    </tr>\n",
       "    <tr>\n",
       "      <th>274</th>\n",
       "      <td>R22LKIOKMSOG8A</td>\n",
       "      <td>Electronics</td>\n",
       "      <td>13</td>\n",
       "      <td>nice!\\nThis is a nice little turntable. Don't ...</td>\n",
       "      <td>0.923077</td>\n",
       "    </tr>\n",
       "    <tr>\n",
       "      <th>304</th>\n",
       "      <td>R3SJTYZBYBG4EE</td>\n",
       "      <td>Electronics</td>\n",
       "      <td>99</td>\n",
       "      <td>Very good charger for the price! But has a dow...</td>\n",
       "      <td>1.000000</td>\n",
       "    </tr>\n",
       "    <tr>\n",
       "      <th>...</th>\n",
       "      <td>...</td>\n",
       "      <td>...</td>\n",
       "      <td>...</td>\n",
       "      <td>...</td>\n",
       "      <td>...</td>\n",
       "    </tr>\n",
       "    <tr>\n",
       "      <th>9001932</th>\n",
       "      <td>R23WGBU0VIL6FA</td>\n",
       "      <td>Wireless</td>\n",
       "      <td>26</td>\n",
       "      <td>Great little radios\\nI just purchased two of t...</td>\n",
       "      <td>1.000000</td>\n",
       "    </tr>\n",
       "    <tr>\n",
       "      <th>9001946</th>\n",
       "      <td>R1YWKS4FWD687C</td>\n",
       "      <td>Wireless</td>\n",
       "      <td>18</td>\n",
       "      <td>Sony FRS radio\\nI have been a FRS radio user f...</td>\n",
       "      <td>1.000000</td>\n",
       "    </tr>\n",
       "    <tr>\n",
       "      <th>9001962</th>\n",
       "      <td>R2STV9N2M963YM</td>\n",
       "      <td>Wireless</td>\n",
       "      <td>24</td>\n",
       "      <td>Great\\nI have only had a short time, and I am ...</td>\n",
       "      <td>0.916667</td>\n",
       "    </tr>\n",
       "    <tr>\n",
       "      <th>9001989</th>\n",
       "      <td>R25BIFCRPWPUHA</td>\n",
       "      <td>Wireless</td>\n",
       "      <td>46</td>\n",
       "      <td>Excellent - bearing in mind the power/range li...</td>\n",
       "      <td>0.586957</td>\n",
       "    </tr>\n",
       "    <tr>\n",
       "      <th>9001998</th>\n",
       "      <td>R39FVEP4B66AKW</td>\n",
       "      <td>Wireless</td>\n",
       "      <td>31</td>\n",
       "      <td>Great unit\\nUsed this unit for the first time ...</td>\n",
       "      <td>0.870968</td>\n",
       "    </tr>\n",
       "  </tbody>\n",
       "</table>\n",
       "<p>406831 rows × 5 columns</p>\n",
       "</div>"
      ],
      "text/plain": [
       "              review_id product_category  total_votes  \\\n",
       "41       R1FBO737KD9F2N      Electronics           23   \n",
       "145      R227GSNWI6BSZV      Electronics           20   \n",
       "265       R4PF7S0TOV9S7      Electronics           17   \n",
       "274      R22LKIOKMSOG8A      Electronics           13   \n",
       "304      R3SJTYZBYBG4EE      Electronics           99   \n",
       "...                 ...              ...          ...   \n",
       "9001932  R23WGBU0VIL6FA         Wireless           26   \n",
       "9001946  R1YWKS4FWD687C         Wireless           18   \n",
       "9001962  R2STV9N2M963YM         Wireless           24   \n",
       "9001989  R25BIFCRPWPUHA         Wireless           46   \n",
       "9001998  R39FVEP4B66AKW         Wireless           31   \n",
       "\n",
       "                                                    review  usefulness  \n",
       "41       Great noise cancelling headphones for the pric...    0.826087  \n",
       "145      Garbage, lasted 8 months... warranty is useles...    1.000000  \n",
       "265      A long lasting bluetooth sound bazooka!\\nThis ...    0.882353  \n",
       "274      nice!\\nThis is a nice little turntable. Don't ...    0.923077  \n",
       "304      Very good charger for the price! But has a dow...    1.000000  \n",
       "...                                                    ...         ...  \n",
       "9001932  Great little radios\\nI just purchased two of t...    1.000000  \n",
       "9001946  Sony FRS radio\\nI have been a FRS radio user f...    1.000000  \n",
       "9001962  Great\\nI have only had a short time, and I am ...    0.916667  \n",
       "9001989  Excellent - bearing in mind the power/range li...    0.586957  \n",
       "9001998  Great unit\\nUsed this unit for the first time ...    0.870968  \n",
       "\n",
       "[406831 rows x 5 columns]"
      ]
     },
     "execution_count": 2,
     "metadata": {},
     "output_type": "execute_result"
    }
   ],
   "source": [
    "dataset = pd.read_parquet('..\\data\\preprocessed_data.parquet')\n",
    "dataset"
   ]
  },
  {
   "cell_type": "markdown",
   "metadata": {},
   "source": [
    "## Simple preprocessing"
   ]
  },
  {
   "cell_type": "code",
   "execution_count": 3,
   "metadata": {},
   "outputs": [],
   "source": [
    "dataset['review'] = dataset['review'].str.lower()\n",
    "# remove stopwords \n",
    "stop = stopwords.words('english')\n",
    "dataset['review'] = dataset['review'].apply(lambda x: ' '.join([word for word in x.split() if word not in (stop)]))\n",
    "dataset['review'] = dataset['review'].str.replace('[^a-zA-Z\\s]', '', regex=True)"
   ]
  },
  {
   "cell_type": "markdown",
   "metadata": {},
   "source": [
    "## apply label encoding to the product_category column"
   ]
  },
  {
   "cell_type": "code",
   "execution_count": 4,
   "metadata": {},
   "outputs": [],
   "source": [
    "label_encoder = LabelEncoder()\n",
    "dataset['product_category'] = label_encoder.fit_transform(dataset['product_category'])"
   ]
  },
  {
   "cell_type": "markdown",
   "metadata": {},
   "source": [
    "## Choose features and lable from datases"
   ]
  },
  {
   "cell_type": "code",
   "execution_count": 5,
   "metadata": {},
   "outputs": [],
   "source": [
    "X = dataset[['product_category', 'total_votes', 'review']]"
   ]
  },
  {
   "cell_type": "code",
   "execution_count": 6,
   "metadata": {},
   "outputs": [],
   "source": [
    "y = dataset['usefulness']"
   ]
  },
  {
   "cell_type": "markdown",
   "metadata": {},
   "source": [
    "## Construct the column transformer"
   ]
  },
  {
   "cell_type": "code",
   "execution_count": 7,
   "metadata": {},
   "outputs": [],
   "source": [
    "tfidf_vectorizer = TfidfVectorizer()\n",
    "count_vectorizer = CountVectorizer(min_df=0.02)\n",
    "\n",
    "column_transformer = ColumnTransformer(\n",
    "    transformers=[\n",
    "        ('tfidf', count_vectorizer, 'review'),\n",
    "    ], \n",
    "    remainder='passthrough'\n",
    ")"
   ]
  },
  {
   "cell_type": "markdown",
   "metadata": {},
   "source": [
    "## Define the Decision Tree Regressor, Linear Regression, Gradient Boosting Regressor models"
   ]
  },
  {
   "cell_type": "code",
   "execution_count": 8,
   "metadata": {},
   "outputs": [],
   "source": [
    "models = [\n",
    "    ('Decision Tree Regressor', DecisionTreeRegressor()),\n",
    "    ('Linear Regression', LinearRegression()),\n",
    "    ('Gradient Boosting Regressor', GradientBoostingRegressor())\n",
    "]"
   ]
  },
  {
   "cell_type": "markdown",
   "metadata": {},
   "source": [
    "## Create a pipeline for each model"
   ]
  },
  {
   "cell_type": "code",
   "execution_count": 9,
   "metadata": {},
   "outputs": [],
   "source": [
    "pipelines = []\n",
    "for name, model in models:\n",
    "    pipeline = Pipeline([\n",
    "        ('preprocessor', column_transformer),\n",
    "        ('model', model)\n",
    "    ])\n",
    "    pipelines.append((name, pipeline))"
   ]
  },
  {
   "cell_type": "markdown",
   "metadata": {},
   "source": [
    "## Split data into train and test sets"
   ]
  },
  {
   "cell_type": "code",
   "execution_count": 10,
   "metadata": {},
   "outputs": [],
   "source": [
    "X_train, X_test, y_train, y_test = train_test_split(X, y, test_size=0.2, random_state=42)"
   ]
  },
  {
   "cell_type": "markdown",
   "metadata": {},
   "source": [
    "## Train and test models"
   ]
  },
  {
   "cell_type": "code",
   "execution_count": 14,
   "metadata": {},
   "outputs": [
    {
     "name": "stdout",
     "output_type": "stream",
     "text": [
      "Training Decision Tree Regressor\n",
      "Mean Squared Error: 0.11914937113486608\n",
      "\n",
      "Training Linear Regression\n",
      "Mean Squared Error: 0.06507291126904217\n",
      "\n",
      "Training Gradient Boosting Regressor\n",
      "Mean Squared Error: 0.060718931912111515\n",
      "\n"
     ]
    }
   ],
   "source": [
    "for name, pipeline in pipelines:\n",
    "    print(f'Training {name}')\n",
    "    pipeline.fit(X_train, y_train)\n",
    "    y_pred = pipeline.predict(X_test)\n",
    "    mse = mean_squared_error(y_test, y_pred)\n",
    "    print(f'Mean Squared Error: {mse}')\n",
    "    \n",
    "     # Save the trained model\n",
    "    joblib.dump(pipeline, f'./models/{name}_model.pkl')\n",
    "    print()"
   ]
  }
 ],
 "metadata": {
  "kernelspec": {
   "display_name": "base",
   "language": "python",
   "name": "python3"
  },
  "language_info": {
   "codemirror_mode": {
    "name": "ipython",
    "version": 3
   },
   "file_extension": ".py",
   "mimetype": "text/x-python",
   "name": "python",
   "nbconvert_exporter": "python",
   "pygments_lexer": "ipython3",
   "version": "3.11.0"
  }
 },
 "nbformat": 4,
 "nbformat_minor": 2
}
